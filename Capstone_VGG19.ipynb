{
  "nbformat": 4,
  "nbformat_minor": 0,
  "metadata": {
    "colab": {
      "name": "Capstone_VGG19.ipynb",
      "version": "0.3.2",
      "provenance": [],
      "collapsed_sections": [],
      "include_colab_link": true
    },
    "kernelspec": {
      "name": "python3",
      "display_name": "Python 3"
    },
    "accelerator": "GPU"
  },
  "cells": [
    {
      "cell_type": "markdown",
      "metadata": {
        "id": "view-in-github",
        "colab_type": "text"
      },
      "source": [
        "<a href=\"https://colab.research.google.com/github/Suvarnaph/hello-world/blob/master/Capstone_VGG19.ipynb\" target=\"_parent\"><img src=\"https://colab.research.google.com/assets/colab-badge.svg\" alt=\"Open In Colab\"/></a>"
      ]
    },
    {
      "metadata": {
        "id": "lpQfK20PSgkl",
        "colab_type": "code",
        "outputId": "381164ca-3cfc-45dd-f7c2-8fdc66e56801",
        "colab": {
          "base_uri": "https://localhost:8080/",
          "height": 34
        }
      },
      "cell_type": "code",
      "source": [
        "from google.colab import drive\n",
        "drive.mount('/content/drive/')"
      ],
      "execution_count": 1,
      "outputs": [
        {
          "output_type": "stream",
          "text": [
            "Drive already mounted at /content/drive/; to attempt to forcibly remount, call drive.mount(\"/content/drive/\", force_remount=True).\n"
          ],
          "name": "stdout"
        }
      ]
    },
    {
      "metadata": {
        "id": "Afm0BMUVL8_w",
        "colab_type": "code",
        "colab": {}
      },
      "cell_type": "code",
      "source": [
        "import cv2\n",
        "import numpy as np\n",
        "import matplotlib.pyplot as plt\n",
        "import skimage\n",
        "from skimage import color\n",
        "import skimage.transform as skt\n",
        "import os\n",
        "import h5py\n",
        "plt.style.use('default')\n"
      ],
      "execution_count": 0,
      "outputs": []
    },
    {
      "metadata": {
        "id": "sYdnw9raRtMH",
        "colab_type": "code",
        "colab": {}
      },
      "cell_type": "code",
      "source": [
        "#with h5py.File('drive/My Drive/AIML/Capstone_Team/data_train_1.h5', 'r') as hf:\n",
        "Images = np.load('drive/My Drive/AIML/Capstone_Team/Mura_Dataset_Loaded/Images_Shoulder.npy')\n",
        "labels = np.load('drive/My Drive/AIML/Capstone_Team/Mura_Dataset_Loaded/labels_Shoulder.npy')"
      ],
      "execution_count": 0,
      "outputs": []
    },
    {
      "metadata": {
        "id": "QKcrvTCidlLx",
        "colab_type": "code",
        "colab": {}
      },
      "cell_type": "code",
      "source": [
        "import cv2\n",
        "rez=(120,120)\n",
        "def preprocess(data):\n",
        "  from skimage import exposure\n",
        "  data_proc = np.zeros((data.shape[0],data.shape[1],rez[0],rez[1]))\n",
        "  #data_proc=[]\n",
        "  for i in range(0, data.shape[0]):\n",
        "    img = cv2.resize(data[i,0], rez)# , preserve_range=True)\n",
        "    img=exposure.equalize_hist(img)\n",
        "    #img=data[i,0]\n",
        "    img=(img - img.mean())/(1.0*img.std())\n",
        "    img=(img-img.min())/(1.0*(1e-2+img.max()-img.min()))\t\n",
        "    data_proc[i,0,:,:]=img\n",
        "  return np.array(data_proc)"
      ],
      "execution_count": 0,
      "outputs": []
    },
    {
      "metadata": {
        "id": "P9tqoL_KFA_a",
        "colab_type": "code",
        "outputId": "8c7a97f0-d1a5-4c1c-a554-3fd2e04b8753",
        "colab": {
          "base_uri": "https://localhost:8080/",
          "height": 34
        }
      },
      "cell_type": "code",
      "source": [
        "ImageArr = np.array(Images).reshape(len(Images),1)\n",
        "ImageArr.shape"
      ],
      "execution_count": 5,
      "outputs": [
        {
          "output_type": "execute_result",
          "data": {
            "text/plain": [
              "(8379, 1)"
            ]
          },
          "metadata": {
            "tags": []
          },
          "execution_count": 5
        }
      ]
    },
    {
      "metadata": {
        "id": "CyGOyAFQeAWl",
        "colab_type": "code",
        "colab": {}
      },
      "cell_type": "code",
      "source": [
        "from sklearn.model_selection import train_test_split\n",
        "data_proc = preprocess(ImageArr)"
      ],
      "execution_count": 0,
      "outputs": []
    },
    {
      "metadata": {
        "colab_type": "code",
        "id": "v9UoXJ_t4LUq",
        "colab": {}
      },
      "cell_type": "code",
      "source": [
        "data_proc_rgb = []\n",
        "\n",
        "for s in range(0,data_proc.shape[0]):\n",
        "    rgb=np.zeros((data_proc.shape[2],data_proc.shape[3],3))\n",
        "    rgb[:,:,0]=data_proc[s,0,:,:]\n",
        "    rgb[:,:,1]=data_proc[s,0,:,:]\n",
        "    rgb[:,:,2]=data_proc[s,0,:,:]\n",
        "    data_proc_rgb.append(rgb)\n",
        "    \n",
        "data_proc_rgb=np.array(data_proc_rgb)"
      ],
      "execution_count": 0,
      "outputs": []
    },
    {
      "metadata": {
        "id": "Rd8lbovBcoIe",
        "colab_type": "code",
        "colab": {}
      },
      "cell_type": "code",
      "source": [
        "x_train,x_test,y_train,y_test = train_test_split(data_proc_rgb,\n",
        "                                                             labels, \n",
        "                                                             test_size=0.2, \n",
        "                                                             random_state=13)"
      ],
      "execution_count": 0,
      "outputs": []
    },
    {
      "metadata": {
        "id": "o5DhzC9ZIBiF",
        "colab_type": "code",
        "outputId": "c395e958-9ae7-4893-937f-e3b9df8ce886",
        "colab": {
          "base_uri": "https://localhost:8080/",
          "height": 34
        }
      },
      "cell_type": "code",
      "source": [
        "x_train[10].max()"
      ],
      "execution_count": 9,
      "outputs": [
        {
          "output_type": "execute_result",
          "data": {
            "text/plain": [
              "0.9971122495878816"
            ]
          },
          "metadata": {
            "tags": []
          },
          "execution_count": 9
        }
      ]
    },
    {
      "metadata": {
        "id": "sSjE1RtnHtn3",
        "colab_type": "code",
        "outputId": "c3f3de6c-ab60-4dc2-ca16-9083e2a59f8a",
        "colab": {
          "base_uri": "https://localhost:8080/",
          "height": 34
        }
      },
      "cell_type": "code",
      "source": [
        "x_train.shape"
      ],
      "execution_count": 10,
      "outputs": [
        {
          "output_type": "execute_result",
          "data": {
            "text/plain": [
              "(6703, 120, 120, 3)"
            ]
          },
          "metadata": {
            "tags": []
          },
          "execution_count": 10
        }
      ]
    },
    {
      "metadata": {
        "id": "1KVEdpwfeo84",
        "colab_type": "code",
        "outputId": "e8d391e3-ce58-4a32-ad1f-a90b29ba99ab",
        "colab": {
          "base_uri": "https://localhost:8080/",
          "height": 85
        }
      },
      "cell_type": "code",
      "source": [
        "import tensorflow as tf\n",
        "from keras import applications\n",
        "\n",
        "model = applications.VGG19(weights = \"imagenet\", include_top=False, input_shape = (120, 120, 3))\n"
      ],
      "execution_count": 11,
      "outputs": [
        {
          "output_type": "stream",
          "text": [
            "WARNING:tensorflow:From /usr/local/lib/python3.6/dist-packages/tensorflow/python/framework/op_def_library.py:263: colocate_with (from tensorflow.python.framework.ops) is deprecated and will be removed in a future version.\n",
            "Instructions for updating:\n",
            "Colocations handled automatically by placer.\n"
          ],
          "name": "stdout"
        },
        {
          "output_type": "stream",
          "text": [
            "Using TensorFlow backend.\n"
          ],
          "name": "stderr"
        }
      ]
    },
    {
      "metadata": {
        "id": "mRNqutXi40lU",
        "colab_type": "code",
        "outputId": "2a94eec8-69df-46e0-cd8e-5da1d8c86361",
        "colab": {
          "base_uri": "https://localhost:8080/",
          "height": 884
        }
      },
      "cell_type": "code",
      "source": [
        "model.summary()"
      ],
      "execution_count": 12,
      "outputs": [
        {
          "output_type": "stream",
          "text": [
            "_________________________________________________________________\n",
            "Layer (type)                 Output Shape              Param #   \n",
            "=================================================================\n",
            "input_1 (InputLayer)         (None, 120, 120, 3)       0         \n",
            "_________________________________________________________________\n",
            "block1_conv1 (Conv2D)        (None, 120, 120, 64)      1792      \n",
            "_________________________________________________________________\n",
            "block1_conv2 (Conv2D)        (None, 120, 120, 64)      36928     \n",
            "_________________________________________________________________\n",
            "block1_pool (MaxPooling2D)   (None, 60, 60, 64)        0         \n",
            "_________________________________________________________________\n",
            "block2_conv1 (Conv2D)        (None, 60, 60, 128)       73856     \n",
            "_________________________________________________________________\n",
            "block2_conv2 (Conv2D)        (None, 60, 60, 128)       147584    \n",
            "_________________________________________________________________\n",
            "block2_pool (MaxPooling2D)   (None, 30, 30, 128)       0         \n",
            "_________________________________________________________________\n",
            "block3_conv1 (Conv2D)        (None, 30, 30, 256)       295168    \n",
            "_________________________________________________________________\n",
            "block3_conv2 (Conv2D)        (None, 30, 30, 256)       590080    \n",
            "_________________________________________________________________\n",
            "block3_conv3 (Conv2D)        (None, 30, 30, 256)       590080    \n",
            "_________________________________________________________________\n",
            "block3_conv4 (Conv2D)        (None, 30, 30, 256)       590080    \n",
            "_________________________________________________________________\n",
            "block3_pool (MaxPooling2D)   (None, 15, 15, 256)       0         \n",
            "_________________________________________________________________\n",
            "block4_conv1 (Conv2D)        (None, 15, 15, 512)       1180160   \n",
            "_________________________________________________________________\n",
            "block4_conv2 (Conv2D)        (None, 15, 15, 512)       2359808   \n",
            "_________________________________________________________________\n",
            "block4_conv3 (Conv2D)        (None, 15, 15, 512)       2359808   \n",
            "_________________________________________________________________\n",
            "block4_conv4 (Conv2D)        (None, 15, 15, 512)       2359808   \n",
            "_________________________________________________________________\n",
            "block4_pool (MaxPooling2D)   (None, 7, 7, 512)         0         \n",
            "_________________________________________________________________\n",
            "block5_conv1 (Conv2D)        (None, 7, 7, 512)         2359808   \n",
            "_________________________________________________________________\n",
            "block5_conv2 (Conv2D)        (None, 7, 7, 512)         2359808   \n",
            "_________________________________________________________________\n",
            "block5_conv3 (Conv2D)        (None, 7, 7, 512)         2359808   \n",
            "_________________________________________________________________\n",
            "block5_conv4 (Conv2D)        (None, 7, 7, 512)         2359808   \n",
            "_________________________________________________________________\n",
            "block5_pool (MaxPooling2D)   (None, 3, 3, 512)         0         \n",
            "=================================================================\n",
            "Total params: 20,024,384\n",
            "Trainable params: 20,024,384\n",
            "Non-trainable params: 0\n",
            "_________________________________________________________________\n"
          ],
          "name": "stdout"
        }
      ]
    },
    {
      "metadata": {
        "id": "oxooUrcr5Ah5",
        "colab_type": "code",
        "colab": {}
      },
      "cell_type": "code",
      "source": [
        "for layer in model.layers:\n",
        "   layer.trainable = False"
      ],
      "execution_count": 0,
      "outputs": []
    },
    {
      "metadata": {
        "id": "Sa8AQ0TA5PrD",
        "colab_type": "code",
        "colab": {}
      },
      "cell_type": "code",
      "source": [
        "from keras.layers import Dropout, Flatten, Dense, GlobalAveragePooling2D\n",
        "\n",
        "x = model.output\n",
        "x = Flatten()(x)\n",
        "x = Dense(512, activation=\"relu\")(x)\n",
        "#x = Dropout(0.5)(x)\n",
        "#x = Dense(512, activation=\"relu\")(x)\n",
        "predictions = Dense(1, activation=\"sigmoid\")(x)"
      ],
      "execution_count": 0,
      "outputs": []
    },
    {
      "metadata": {
        "id": "T4JI8PwacF0w",
        "colab_type": "code",
        "outputId": "bb6a7902-7f8e-4e17-e983-28fa8fcefeb0",
        "colab": {
          "base_uri": "https://localhost:8080/",
          "height": 1873
        }
      },
      "cell_type": "code",
      "source": [
        "from keras.models import Sequential, Model \n",
        "from keras.preprocessing.image import ImageDataGenerator\n",
        "from keras.callbacks import ModelCheckpoint, LearningRateScheduler, TensorBoard, EarlyStopping\n",
        "\n",
        "\n",
        "batch_size = 25\n",
        "epochs = 50\n",
        "nb_train_samples = 4125\n",
        "nb_validation_samples = 466 \n",
        "\n",
        "model_final = Model(input = model.input, output = predictions)\n",
        "model_final.compile(loss='binary_crossentropy', optimizer='SGD', metrics=['accuracy'])\n",
        "\n",
        "train_datagen = ImageDataGenerator(\n",
        "horizontal_flip = True,\n",
        "zoom_range = 0.3,\n",
        "width_shift_range = 0.3,\n",
        "height_shift_range=0.3,\n",
        "rotation_range=30)\n",
        "\n",
        "test_datagen = ImageDataGenerator(\n",
        "horizontal_flip = True,\n",
        "zoom_range = 0.3,\n",
        "width_shift_range = 0.3,\n",
        "height_shift_range=0.3,\n",
        "rotation_range=30)\n",
        "\n",
        "train_generator = train_datagen.flow(x_train,y_train,\n",
        "batch_size = batch_size)\n",
        "\n",
        "validation_generator = test_datagen.flow(x_test,y_test)\n",
        "\n",
        "# Save the model according to the conditions  \n",
        "checkpoint = ModelCheckpoint(\"vgg16_1.h5\", monitor='val_acc', verbose=1, save_best_only=True, save_weights_only=False, mode='auto', period=1)\n",
        "early = EarlyStopping(monitor='val_acc', min_delta=0, patience=10, verbose=1, mode='auto')\n",
        "\n",
        "\n",
        "# Train the model \n",
        "model_final.fit_generator(\n",
        "train_generator,\n",
        "samples_per_epoch = x_train.shape[0],\n",
        "epochs = epochs,\n",
        "validation_data = validation_generator,\n",
        "nb_val_samples = 100)\n",
        "#callbacks = [checkpoint, early])\n",
        "\n"
      ],
      "execution_count": 15,
      "outputs": [
        {
          "output_type": "stream",
          "text": [
            "/usr/local/lib/python3.6/dist-packages/ipykernel_launcher.py:11: UserWarning: Update your `Model` call to the Keras 2 API: `Model(inputs=Tensor(\"in..., outputs=Tensor(\"de...)`\n",
            "  # This is added back by InteractiveShellApp.init_path()\n"
          ],
          "name": "stderr"
        },
        {
          "output_type": "stream",
          "text": [
            "WARNING:tensorflow:From /usr/local/lib/python3.6/dist-packages/tensorflow/python/ops/math_ops.py:3066: to_int32 (from tensorflow.python.ops.math_ops) is deprecated and will be removed in a future version.\n",
            "Instructions for updating:\n",
            "Use tf.cast instead.\n"
          ],
          "name": "stdout"
        },
        {
          "output_type": "stream",
          "text": [
            "/usr/local/lib/python3.6/dist-packages/ipykernel_launcher.py:44: UserWarning: The semantics of the Keras 2 argument `steps_per_epoch` is not the same as the Keras 1 argument `samples_per_epoch`. `steps_per_epoch` is the number of batches to draw from the generator at each epoch. Basically steps_per_epoch = samples_per_epoch/batch_size. Similarly `nb_val_samples`->`validation_steps` and `val_samples`->`steps` arguments have changed. Update your method calls accordingly.\n",
            "/usr/local/lib/python3.6/dist-packages/ipykernel_launcher.py:44: UserWarning: Update your `fit_generator` call to the Keras 2 API: `fit_generator(<keras_pre..., epochs=50, validation_data=<keras_pre..., steps_per_epoch=268, validation_steps=100)`\n"
          ],
          "name": "stderr"
        },
        {
          "output_type": "stream",
          "text": [
            "Epoch 1/50\n",
            "268/268 [==============================] - 53s 199ms/step - loss: 0.7140 - acc: 0.5203 - val_loss: 0.6805 - val_acc: 0.5840\n",
            "Epoch 2/50\n",
            "268/268 [==============================] - 48s 180ms/step - loss: 0.6865 - acc: 0.5598 - val_loss: 0.6800 - val_acc: 0.5744\n",
            "Epoch 3/50\n",
            "268/268 [==============================] - 48s 179ms/step - loss: 0.6825 - acc: 0.5619 - val_loss: 0.6828 - val_acc: 0.5661\n",
            "Epoch 4/50\n",
            "268/268 [==============================] - 48s 179ms/step - loss: 0.6768 - acc: 0.5701 - val_loss: 0.6719 - val_acc: 0.5791\n",
            "Epoch 5/50\n",
            "268/268 [==============================] - 48s 178ms/step - loss: 0.6755 - acc: 0.5779 - val_loss: 0.6686 - val_acc: 0.5918\n",
            "Epoch 6/50\n",
            "268/268 [==============================] - 48s 179ms/step - loss: 0.6758 - acc: 0.5816 - val_loss: 0.6627 - val_acc: 0.6104\n",
            "Epoch 7/50\n",
            "268/268 [==============================] - 48s 179ms/step - loss: 0.6742 - acc: 0.5744 - val_loss: 0.6631 - val_acc: 0.5994\n",
            "Epoch 8/50\n",
            "268/268 [==============================] - 48s 179ms/step - loss: 0.6711 - acc: 0.5863 - val_loss: 0.6684 - val_acc: 0.5921\n",
            "Epoch 9/50\n",
            "268/268 [==============================] - 48s 179ms/step - loss: 0.6676 - acc: 0.5919 - val_loss: 0.6669 - val_acc: 0.5670\n",
            "Epoch 10/50\n",
            "268/268 [==============================] - 48s 179ms/step - loss: 0.6703 - acc: 0.5877 - val_loss: 0.6662 - val_acc: 0.5959\n",
            "Epoch 11/50\n",
            "268/268 [==============================] - 48s 178ms/step - loss: 0.6644 - acc: 0.6007 - val_loss: 0.6724 - val_acc: 0.5940\n",
            "Epoch 12/50\n",
            "268/268 [==============================] - 48s 178ms/step - loss: 0.6659 - acc: 0.5863 - val_loss: 0.6754 - val_acc: 0.5845\n",
            "Epoch 13/50\n",
            "268/268 [==============================] - 48s 178ms/step - loss: 0.6672 - acc: 0.5886 - val_loss: 0.6652 - val_acc: 0.6114\n",
            "Epoch 14/50\n",
            "268/268 [==============================] - 48s 178ms/step - loss: 0.6659 - acc: 0.5911 - val_loss: 0.6592 - val_acc: 0.5978\n",
            "Epoch 15/50\n",
            "268/268 [==============================] - 48s 178ms/step - loss: 0.6603 - acc: 0.6061 - val_loss: 0.6607 - val_acc: 0.6047\n",
            "Epoch 16/50\n",
            "268/268 [==============================] - 48s 178ms/step - loss: 0.6616 - acc: 0.5983 - val_loss: 0.6583 - val_acc: 0.6076\n",
            "Epoch 17/50\n",
            "268/268 [==============================] - 48s 178ms/step - loss: 0.6622 - acc: 0.5995 - val_loss: 0.6605 - val_acc: 0.6111\n",
            "Epoch 18/50\n",
            "268/268 [==============================] - 48s 179ms/step - loss: 0.6651 - acc: 0.5996 - val_loss: 0.6609 - val_acc: 0.5947\n",
            "Epoch 19/50\n",
            "268/268 [==============================] - 48s 178ms/step - loss: 0.6619 - acc: 0.6004 - val_loss: 0.6570 - val_acc: 0.6139\n",
            "Epoch 20/50\n",
            "268/268 [==============================] - 48s 178ms/step - loss: 0.6592 - acc: 0.6018 - val_loss: 0.6650 - val_acc: 0.5908\n",
            "Epoch 21/50\n",
            "268/268 [==============================] - 48s 178ms/step - loss: 0.6523 - acc: 0.6171 - val_loss: 0.6565 - val_acc: 0.6092\n",
            "Epoch 22/50\n",
            "268/268 [==============================] - 48s 178ms/step - loss: 0.6531 - acc: 0.6100 - val_loss: 0.6607 - val_acc: 0.6101\n",
            "Epoch 23/50\n",
            "268/268 [==============================] - 48s 178ms/step - loss: 0.6535 - acc: 0.6159 - val_loss: 0.7010 - val_acc: 0.5646\n",
            "Epoch 24/50\n",
            "268/268 [==============================] - 48s 178ms/step - loss: 0.6613 - acc: 0.5956 - val_loss: 0.6629 - val_acc: 0.5959\n",
            "Epoch 25/50\n",
            "268/268 [==============================] - 48s 179ms/step - loss: 0.6565 - acc: 0.6027 - val_loss: 0.6563 - val_acc: 0.6117\n",
            "Epoch 26/50\n",
            "268/268 [==============================] - 48s 178ms/step - loss: 0.6527 - acc: 0.6154 - val_loss: 0.6459 - val_acc: 0.6348\n",
            "Epoch 27/50\n",
            "268/268 [==============================] - 48s 179ms/step - loss: 0.6584 - acc: 0.6014 - val_loss: 0.6509 - val_acc: 0.6211\n",
            "Epoch 28/50\n",
            "268/268 [==============================] - 48s 179ms/step - loss: 0.6536 - acc: 0.6145 - val_loss: 0.6577 - val_acc: 0.6092\n",
            "Epoch 29/50\n",
            "268/268 [==============================] - 48s 179ms/step - loss: 0.6545 - acc: 0.6085 - val_loss: 0.6532 - val_acc: 0.6133\n",
            "Epoch 30/50\n",
            "268/268 [==============================] - 47s 177ms/step - loss: 0.6529 - acc: 0.6167 - val_loss: 0.6716 - val_acc: 0.5741\n",
            "Epoch 31/50\n",
            "268/268 [==============================] - 48s 178ms/step - loss: 0.6477 - acc: 0.6180 - val_loss: 0.6609 - val_acc: 0.6032\n",
            "Epoch 32/50\n",
            "268/268 [==============================] - 48s 178ms/step - loss: 0.6510 - acc: 0.6166 - val_loss: 0.6576 - val_acc: 0.6133\n",
            "Epoch 33/50\n",
            "268/268 [==============================] - 48s 178ms/step - loss: 0.6504 - acc: 0.6156 - val_loss: 0.6668 - val_acc: 0.6095\n",
            "Epoch 34/50\n",
            "268/268 [==============================] - 48s 178ms/step - loss: 0.6548 - acc: 0.6092 - val_loss: 0.6537 - val_acc: 0.6051\n",
            "Epoch 35/50\n",
            "268/268 [==============================] - 48s 179ms/step - loss: 0.6507 - acc: 0.6224 - val_loss: 0.6580 - val_acc: 0.6104\n",
            "Epoch 36/50\n",
            "268/268 [==============================] - 48s 179ms/step - loss: 0.6472 - acc: 0.6187 - val_loss: 0.6519 - val_acc: 0.6189\n",
            "Epoch 37/50\n",
            "268/268 [==============================] - 48s 178ms/step - loss: 0.6489 - acc: 0.6156 - val_loss: 0.6503 - val_acc: 0.6250\n",
            "Epoch 38/50\n",
            "268/268 [==============================] - 48s 179ms/step - loss: 0.6506 - acc: 0.6150 - val_loss: 0.6658 - val_acc: 0.6009\n",
            "Epoch 39/50\n",
            "268/268 [==============================] - 48s 178ms/step - loss: 0.6501 - acc: 0.6109 - val_loss: 0.6539 - val_acc: 0.6139\n",
            "Epoch 40/50\n",
            "268/268 [==============================] - 48s 179ms/step - loss: 0.6485 - acc: 0.6154 - val_loss: 0.6454 - val_acc: 0.6184\n",
            "Epoch 41/50\n",
            "268/268 [==============================] - 48s 178ms/step - loss: 0.6544 - acc: 0.6176 - val_loss: 0.6438 - val_acc: 0.6288\n",
            "Epoch 42/50\n",
            "268/268 [==============================] - 48s 179ms/step - loss: 0.6462 - acc: 0.6211 - val_loss: 0.6458 - val_acc: 0.6215\n",
            "Epoch 43/50\n",
            "268/268 [==============================] - 48s 179ms/step - loss: 0.6435 - acc: 0.6239 - val_loss: 0.6482 - val_acc: 0.6089\n",
            "Epoch 44/50\n",
            "268/268 [==============================] - 48s 179ms/step - loss: 0.6478 - acc: 0.6192 - val_loss: 0.6448 - val_acc: 0.6199\n",
            "Epoch 45/50\n",
            "268/268 [==============================] - 48s 179ms/step - loss: 0.6480 - acc: 0.6219 - val_loss: 0.6465 - val_acc: 0.6107\n",
            "Epoch 46/50\n",
            "268/268 [==============================] - 48s 178ms/step - loss: 0.6476 - acc: 0.6191 - val_loss: 0.6476 - val_acc: 0.6275\n",
            "Epoch 47/50\n",
            "268/268 [==============================] - 48s 178ms/step - loss: 0.6440 - acc: 0.6260 - val_loss: 0.6433 - val_acc: 0.6288\n",
            "Epoch 48/50\n",
            "268/268 [==============================] - 48s 178ms/step - loss: 0.6450 - acc: 0.6168 - val_loss: 0.6683 - val_acc: 0.5889\n",
            "Epoch 49/50\n",
            "268/268 [==============================] - 48s 178ms/step - loss: 0.6457 - acc: 0.6195 - val_loss: 0.6535 - val_acc: 0.6190\n",
            "Epoch 50/50\n",
            "268/268 [==============================] - 48s 178ms/step - loss: 0.6461 - acc: 0.6284 - val_loss: 0.6394 - val_acc: 0.6266\n"
          ],
          "name": "stdout"
        },
        {
          "output_type": "execute_result",
          "data": {
            "text/plain": [
              "<keras.callbacks.History at 0x7f32aa522ef0>"
            ]
          },
          "metadata": {
            "tags": []
          },
          "execution_count": 15
        }
      ]
    },
    {
      "metadata": {
        "id": "8U_NJf38vZnu",
        "colab_type": "code",
        "colab": {
          "base_uri": "https://localhost:8080/",
          "height": 986
        },
        "outputId": "26d10cf6-d728-476d-cc90-5cbd2ccfef48"
      },
      "cell_type": "code",
      "source": [
        "model_final.summary()"
      ],
      "execution_count": 16,
      "outputs": [
        {
          "output_type": "stream",
          "text": [
            "_________________________________________________________________\n",
            "Layer (type)                 Output Shape              Param #   \n",
            "=================================================================\n",
            "input_1 (InputLayer)         (None, 120, 120, 3)       0         \n",
            "_________________________________________________________________\n",
            "block1_conv1 (Conv2D)        (None, 120, 120, 64)      1792      \n",
            "_________________________________________________________________\n",
            "block1_conv2 (Conv2D)        (None, 120, 120, 64)      36928     \n",
            "_________________________________________________________________\n",
            "block1_pool (MaxPooling2D)   (None, 60, 60, 64)        0         \n",
            "_________________________________________________________________\n",
            "block2_conv1 (Conv2D)        (None, 60, 60, 128)       73856     \n",
            "_________________________________________________________________\n",
            "block2_conv2 (Conv2D)        (None, 60, 60, 128)       147584    \n",
            "_________________________________________________________________\n",
            "block2_pool (MaxPooling2D)   (None, 30, 30, 128)       0         \n",
            "_________________________________________________________________\n",
            "block3_conv1 (Conv2D)        (None, 30, 30, 256)       295168    \n",
            "_________________________________________________________________\n",
            "block3_conv2 (Conv2D)        (None, 30, 30, 256)       590080    \n",
            "_________________________________________________________________\n",
            "block3_conv3 (Conv2D)        (None, 30, 30, 256)       590080    \n",
            "_________________________________________________________________\n",
            "block3_conv4 (Conv2D)        (None, 30, 30, 256)       590080    \n",
            "_________________________________________________________________\n",
            "block3_pool (MaxPooling2D)   (None, 15, 15, 256)       0         \n",
            "_________________________________________________________________\n",
            "block4_conv1 (Conv2D)        (None, 15, 15, 512)       1180160   \n",
            "_________________________________________________________________\n",
            "block4_conv2 (Conv2D)        (None, 15, 15, 512)       2359808   \n",
            "_________________________________________________________________\n",
            "block4_conv3 (Conv2D)        (None, 15, 15, 512)       2359808   \n",
            "_________________________________________________________________\n",
            "block4_conv4 (Conv2D)        (None, 15, 15, 512)       2359808   \n",
            "_________________________________________________________________\n",
            "block4_pool (MaxPooling2D)   (None, 7, 7, 512)         0         \n",
            "_________________________________________________________________\n",
            "block5_conv1 (Conv2D)        (None, 7, 7, 512)         2359808   \n",
            "_________________________________________________________________\n",
            "block5_conv2 (Conv2D)        (None, 7, 7, 512)         2359808   \n",
            "_________________________________________________________________\n",
            "block5_conv3 (Conv2D)        (None, 7, 7, 512)         2359808   \n",
            "_________________________________________________________________\n",
            "block5_conv4 (Conv2D)        (None, 7, 7, 512)         2359808   \n",
            "_________________________________________________________________\n",
            "block5_pool (MaxPooling2D)   (None, 3, 3, 512)         0         \n",
            "_________________________________________________________________\n",
            "flatten_1 (Flatten)          (None, 4608)              0         \n",
            "_________________________________________________________________\n",
            "dense_1 (Dense)              (None, 512)               2359808   \n",
            "_________________________________________________________________\n",
            "dense_2 (Dense)              (None, 1)                 513       \n",
            "=================================================================\n",
            "Total params: 22,384,705\n",
            "Trainable params: 2,360,321\n",
            "Non-trainable params: 20,024,384\n",
            "_________________________________________________________________\n"
          ],
          "name": "stdout"
        }
      ]
    },
    {
      "metadata": {
        "id": "WtQ_COV4DaL8",
        "colab_type": "code",
        "outputId": "a7187cc7-b083-4891-9c55-d905eee66d86",
        "colab": {
          "base_uri": "https://localhost:8080/",
          "height": 411
        }
      },
      "cell_type": "code",
      "source": [
        "from keras import applications\n",
        "from keras.preprocessing.image import ImageDataGenerator\n",
        "from keras import optimizers\n",
        "from keras.models import Sequential, Model \n",
        "from keras.layers import Dropout, Flatten, Dense, GlobalAveragePooling2D, Input, Conv2D, MaxPooling2D\n",
        "from keras import backend as k \n",
        "from keras.callbacks import ModelCheckpoint, LearningRateScheduler, TensorBoard, EarlyStopping\n",
        "\n",
        "img_width, img_height = 120, 120\n",
        "\n",
        "### Build the network \n",
        "img_input = Input(shape=(120, 120, 3))\n",
        "x = Conv2D(64, (3, 3), activation='relu', padding='same', name='block1_conv1')(img_input)\n",
        "x = Conv2D(64, (3, 3), activation='relu', padding='same', name='block1_conv2')(x)\n",
        "x = MaxPooling2D((2, 2), strides=(2, 2), name='block1_pool')(x)\n",
        "\n",
        "# Block 2\n",
        "x = Conv2D(128, (3, 3), activation='relu', padding='same', name='block2_conv1')(x)\n",
        "x = Conv2D(128, (3, 3), activation='relu', padding='same', name='block2_conv2')(x)\n",
        "x = MaxPooling2D((2, 2), strides=(2, 2), name='block2_pool')(x)\n",
        "\n",
        "model = Model(input = img_input, output = x)\n",
        "\n",
        "model.summary()"
      ],
      "execution_count": 0,
      "outputs": [
        {
          "output_type": "stream",
          "text": [
            "_________________________________________________________________\n",
            "Layer (type)                 Output Shape              Param #   \n",
            "=================================================================\n",
            "input_4 (InputLayer)         (None, 120, 120, 3)       0         \n",
            "_________________________________________________________________\n",
            "block1_conv1 (Conv2D)        (None, 120, 120, 64)      1792      \n",
            "_________________________________________________________________\n",
            "block1_conv2 (Conv2D)        (None, 120, 120, 64)      36928     \n",
            "_________________________________________________________________\n",
            "block1_pool (MaxPooling2D)   (None, 60, 60, 64)        0         \n",
            "_________________________________________________________________\n",
            "block2_conv1 (Conv2D)        (None, 60, 60, 128)       73856     \n",
            "_________________________________________________________________\n",
            "block2_conv2 (Conv2D)        (None, 60, 60, 128)       147584    \n",
            "_________________________________________________________________\n",
            "block2_pool (MaxPooling2D)   (None, 30, 30, 128)       0         \n",
            "=================================================================\n",
            "Total params: 260,160\n",
            "Trainable params: 260,160\n",
            "Non-trainable params: 0\n",
            "_________________________________________________________________\n"
          ],
          "name": "stdout"
        },
        {
          "output_type": "stream",
          "text": [
            "/usr/local/lib/python3.6/dist-packages/ipykernel_launcher.py:22: UserWarning: Update your `Model` call to the Keras 2 API: `Model(inputs=Tensor(\"in..., outputs=Tensor(\"bl...)`\n"
          ],
          "name": "stderr"
        }
      ]
    },
    {
      "metadata": {
        "id": "mGEsThoiFx1f",
        "colab_type": "code",
        "colab": {}
      },
      "cell_type": "code",
      "source": [
        "import h5py\n",
        "weights_path =  'drive/My Drive/AIML/Capstone_Team/vgg16_1.h5' # ('https://github.com/fchollet/deep-learning-models/releases/download/v0.1/vgg19_weights_tf_dim_ordering_tf_kernels.h5)\n",
        "f = h5py.File(weights_path)"
      ],
      "execution_count": 0,
      "outputs": []
    },
    {
      "metadata": {
        "id": "lC-AaVVMGRVU",
        "colab_type": "code",
        "colab": {
          "base_uri": "https://localhost:8080/",
          "height": 34
        },
        "outputId": "0fa853b1-a393-46a6-ba2e-47c9ce2503fb"
      },
      "cell_type": "code",
      "source": [
        "import numpy as np\n",
        "Images_valid = np.load('drive/My Drive/AIML/Capstone_Team/Mura_Dataset_Loaded/Images_Shoulder_Valid.npy')\n",
        "labels_valid = np.load('drive/My Drive/AIML/Capstone_Team/Mura_Dataset_Loaded/labels_Shoulder_Valid.npy')\n",
        "len(Images_valid)"
      ],
      "execution_count": 36,
      "outputs": [
        {
          "output_type": "execute_result",
          "data": {
            "text/plain": [
              "563"
            ]
          },
          "metadata": {
            "tags": []
          },
          "execution_count": 36
        }
      ]
    },
    {
      "metadata": {
        "id": "61XryHTu1Yj2",
        "colab_type": "text"
      },
      "cell_type": "markdown",
      "source": [
        ""
      ]
    },
    {
      "metadata": {
        "id": "jR-XjYPW-zhB",
        "colab_type": "code",
        "colab": {}
      },
      "cell_type": "code",
      "source": [
        "ImageArr = np.array(Images_valid).reshape(len(Images_valid),1)\n",
        "data_proc = preprocess(ImageArr)\n",
        "\n",
        "\n",
        "data_proc_rgb = []\n",
        "\n",
        "for s in range(0,data_proc.shape[0]):\n",
        "    rgb=np.zeros((data_proc.shape[2],data_proc.shape[3],3))\n",
        "    rgb[:,:,0]=data_proc[s,0,:,:]\n",
        "    rgb[:,:,1]=data_proc[s,0,:,:]\n",
        "    rgb[:,:,2]=data_proc[s,0,:,:]\n",
        "    data_proc_rgb.append(rgb)\n",
        "    \n",
        "data_proc_rgb=np.array(data_proc_rgb)\n",
        "labels_pred = model_final.predict(data_proc_rgb)"
      ],
      "execution_count": 0,
      "outputs": []
    },
    {
      "metadata": {
        "id": "A1Ht1upWzmTd",
        "colab_type": "code",
        "colab": {
          "base_uri": "https://localhost:8080/",
          "height": 34
        },
        "outputId": "a9e04999-c5ce-4ad8-e419-c9d9d1bc2df0"
      },
      "cell_type": "code",
      "source": [
        "labels_pred.shape"
      ],
      "execution_count": 39,
      "outputs": [
        {
          "output_type": "execute_result",
          "data": {
            "text/plain": [
              "(563, 1)"
            ]
          },
          "metadata": {
            "tags": []
          },
          "execution_count": 39
        }
      ]
    },
    {
      "metadata": {
        "id": "CXlJOXkNtlih",
        "colab_type": "code",
        "colab": {
          "base_uri": "https://localhost:8080/",
          "height": 450
        },
        "outputId": "d7f4723f-3a3c-47bd-b356-c56258ad618d"
      },
      "cell_type": "code",
      "source": [
        "import sklearn\n",
        "fpr,tpr, thresh=sklearn.metrics.roc_curve(labels_valid[:], labels_pred[:])\n",
        "\n",
        "plt.plot(fpr,tpr)\n",
        "print(sklearn.metrics.roc_auc_score(labels_valid[:],labels_pred[:]))"
      ],
      "execution_count": 40,
      "outputs": [
        {
          "output_type": "stream",
          "text": [
            "0.7157389877571627\n"
          ],
          "name": "stdout"
        },
        {
          "output_type": "display_data",
          "data": {
            "image/png": "[encoded data removed]",
            "text/plain": [
              "<Figure size 640x480 with 1 Axes>"
            ]
          },
          "metadata": {
            "tags": []
          }
        }
      ]
    }
  ]
}