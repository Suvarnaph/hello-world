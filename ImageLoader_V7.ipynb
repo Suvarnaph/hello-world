{
  "nbformat": 4,
  "nbformat_minor": 0,
  "metadata": {
    "colab": {
      "name": "ImageLoader_V7.ipynb",
      "version": "0.3.2",
      "provenance": [],
      "collapsed_sections": [],
      "include_colab_link": true
    },
    "kernelspec": {
      "name": "python3",
      "display_name": "Python 3"
    },
    "accelerator": "GPU"
  },
  "cells": [
    {
      "cell_type": "markdown",
      "metadata": {
        "id": "view-in-github",
        "colab_type": "text"
      },
      "source": [
        "<a href=\"https://colab.research.google.com/github/Suvarnaph/hello-world/blob/master/ImageLoader_V7.ipynb\" target=\"_parent\"><img src=\"https://colab.research.google.com/assets/colab-badge.svg\" alt=\"Open In Colab\"/></a>"
      ]
    },
    {
      "metadata": {
        "id": "H47bVoA8a3_r",
        "colab_type": "code",
        "outputId": "3a2507f2-756a-4f17-8884-55c2f31b8bd6",
        "colab": {
          "base_uri": "https://localhost:8080/",
          "height": 34
        }
      },
      "cell_type": "code",
      "source": [
        "#Import statements\n",
        "from google.colab import drive\n",
        "drive.mount('/content/drive/')\n",
        "\n",
        "from __future__ import absolute_import, division, print_function\n",
        "from pathlib import Path\n",
        "import re\n",
        "import os\n",
        "from os import getcwd\n",
        "from os.path import exists, isdir, isfile, join\n",
        "import shutil\n",
        "import numpy as np\n",
        "import pandas as pd\n",
        "import glob\n",
        "import cv2\n",
        "\n",
        "%matplotlib inline\n",
        "from matplotlib import pyplot as plt"
      ],
      "execution_count": 1,
      "outputs": [
        {
          "output_type": "stream",
          "text": [
            "Drive already mounted at /content/drive/; to attempt to forcibly remount, call drive.mount(\"/content/drive/\", force_remount=True).\n"
          ],
          "name": "stdout"
        }
      ]
    },
    {
      "metadata": {
        "id": "Gtw6T1AwpzfX",
        "colab_type": "code",
        "colab": {}
      },
      "cell_type": "code",
      "source": [
        "#Testing : Extracting only shoulder\n",
        "#IMPORTANT: Multiple studies are performed on a patient : patient01703\n",
        "#Modified label_img method if conditions\n",
        "class Image_Loader:\n",
        "  \n",
        "    def __init__(self, root_path, source_dir_name, size, img_read_format, img_type = ('*.jpg', '*.png')):\n",
        "        self.project_path = root_path #root directory path of Mura-v1.1 dataset\n",
        "        self.root = Path(self.project_path)\n",
        "        self.source_dir= source_dir_name\n",
        "        self.source_directory = Path.joinpath(self.root, source_dir_name) #path from which image has to be read - Ex: train/test complete path\n",
        "        self.y_list=[]\n",
        "        tmppath = Path.joinpath(self.source_directory,\"Processed_Image\",\"XR_SHOULDER\",source_dir_name)\n",
        "        print(tmppath)\n",
        "        #Labelling Images\n",
        "    #study1_positive and study1_negative are the only expected ones that can be processed as per MURA-v1.1 dataset\n",
        "    def label_img(self,img):\n",
        "      word_label = os.path.basename(os.path.dirname(img))\n",
        "      print(word_label)\n",
        "      if \"positive\" in word_label: \n",
        "        return 1\n",
        "      elif \"negative\" in word_label:\n",
        "        return 0\n",
        "      \n",
        "    def image_to_list_numpy(self):\n",
        "      print(self.source_directory)\n",
        "      for study_category in self.source_directory.iterdir():\n",
        "        if(os.path.isdir(study_category)):#Only check for directories\n",
        "          #print(study_category)\n",
        "          if study_category == (Path.joinpath(self.source_directory,\"XR_SHOULDER\")): #Only process shoulder, \"currently ONLY hardcoded line\", as it only needs shoulder, once this line is removed it will read all studies and all details\n",
        "            patient_list = sum(1 for _ in study_category.iterdir()) # converting number of patients to list\n",
        "            #print(patient_list)\n",
        "            for patient_id in study_category.iterdir():\n",
        "              if(os.path.isdir(patient_id)):\n",
        "                #print(patient_id)\n",
        "                for study_type in patient_id.iterdir():\n",
        "                  #print(study_type)\n",
        "                  img_format_type = ('*.jpg', '*.png') #TODO: Type of files this expects, need to add exceptions, atleast one general exception, log file,NotADirectoryError\n",
        "                  for files in img_format_type:\n",
        "                    filelist = list(study_type.glob('**/'+ files))\n",
        "                    #print(filelist)\n",
        "                   # print(len(filelist))\n",
        "                    for fname in filelist:\n",
        "                      class_label = self.label_img(fname) #Calling label_img function to get the actual label of the image\n",
        "                      self.y_list.append(class_label)\n",
        "                      y_npy = np.array(self.y_list)\n",
        "                      #Path.joinpath(self.source_directory,\"Processed_Image\",\"XR_SHOULDER\",source_dir_name,\"Images_array\")\n",
        "        tmppath = Path.joinpath(self.source_directory,\"Processed_Image\",\"XR_SHOULDER\",source_dir_name)\n",
        "        print(tmppath)\n",
        "        Path(tmppath).mkdir(parents=True, exist_ok=True)\n",
        "        np.save(Path.joinpath(tmppath,\"Labels_array\"), y_npy)\n",
        "        #print(os.chdir(self.source_directory))\n",
        "        #if not(os.path.exists(Path.joinpath(self.source_directory,\"Processed_Image\",\"XR_SHOULDER\"))):\n",
        "        #os.mkdir(self.source_directory +\"/\"+ \"Processed_Image/XR_SHOULDER\"+\"/\"+ self.source_dir)\n",
        "        print(tmppath)\n",
        "        #path = Path.joinpath(self.source_directory,\"Processed_Image\",\"XR_SHOULDER\",self.source_dir)\n",
        "        \n",
        "#                      t =(Path.joinpath(self.source_directory,\"Processed_Image\",\"XR_SHOULDER\",self.source_dir,\"Images_array\"))\n",
        "        print(class_label)\n",
        "                     # print(t)"
      ],
      "execution_count": 0,
      "outputs": []
    },
    {
      "metadata": {
        "id": "4_1KDytXp3Yx",
        "colab_type": "code",
        "colab": {
          "base_uri": "https://localhost:8080/",
          "height": 350
        },
        "outputId": "335a2aae-bbfa-48cd-963a-23372d28f17c"
      },
      "cell_type": "code",
      "source": [
        "#Testing\n",
        "objImg = Image_Loader(\"/content/drive/My Drive/AIML/Capstone/MURA-v1.1/\",\"train\",224,cv2.IMREAD_GRAYSCALE)\n",
        "#x_train, y_train, x_train_npy, y_train_npy  = \n",
        "objImg.image_to_list_numpy()"
      ],
      "execution_count": 6,
      "outputs": [
        {
          "output_type": "stream",
          "text": [
            "/content/drive/My Drive/AIML/Capstone/MURA-v1.1/train/Processed_Image/XR_SHOULDER/train\n",
            "/content/drive/My Drive/AIML/Capstone/MURA-v1.1/train\n"
          ],
          "name": "stdout"
        },
        {
          "output_type": "error",
          "ename": "NameError",
          "evalue": "ignored",
          "traceback": [
            "\u001b[0;31m---------------------------------------------------------------------------\u001b[0m",
            "\u001b[0;31mNameError\u001b[0m                                 Traceback (most recent call last)",
            "\u001b[0;32m<ipython-input-6-3ac7d75dc534>\u001b[0m in \u001b[0;36m<module>\u001b[0;34m()\u001b[0m\n\u001b[1;32m      1\u001b[0m \u001b[0mobjImg\u001b[0m \u001b[0;34m=\u001b[0m \u001b[0mImage_Loader\u001b[0m\u001b[0;34m(\u001b[0m\u001b[0;34m\"/content/drive/My Drive/AIML/Capstone/MURA-v1.1/\"\u001b[0m\u001b[0;34m,\u001b[0m\u001b[0;34m\"train\"\u001b[0m\u001b[0;34m,\u001b[0m\u001b[0;36m224\u001b[0m\u001b[0;34m,\u001b[0m\u001b[0mcv2\u001b[0m\u001b[0;34m.\u001b[0m\u001b[0mIMREAD_GRAYSCALE\u001b[0m\u001b[0;34m)\u001b[0m\u001b[0;34m\u001b[0m\u001b[0;34m\u001b[0m\u001b[0m\n\u001b[1;32m      2\u001b[0m \u001b[0;31m#x_train, y_train, x_train_npy, y_train_npy  =\u001b[0m\u001b[0;34m\u001b[0m\u001b[0;34m\u001b[0m\u001b[0;34m\u001b[0m\u001b[0m\n\u001b[0;32m----> 3\u001b[0;31m \u001b[0mobjImg\u001b[0m\u001b[0;34m.\u001b[0m\u001b[0mimage_to_list_numpy\u001b[0m\u001b[0;34m(\u001b[0m\u001b[0;34m)\u001b[0m\u001b[0;34m\u001b[0m\u001b[0;34m\u001b[0m\u001b[0m\n\u001b[0m",
            "\u001b[0;32m<ipython-input-5-92014aed4e11>\u001b[0m in \u001b[0;36mimage_to_list_numpy\u001b[0;34m(self)\u001b[0m\n\u001b[1;32m     43\u001b[0m                       \u001b[0;31m#Path.joinpath(self.source_directory,\"Processed_Image\",\"XR_SHOULDER\",source_dir_name,\"Images_array\")\u001b[0m\u001b[0;34m\u001b[0m\u001b[0;34m\u001b[0m\u001b[0;34m\u001b[0m\u001b[0m\n\u001b[1;32m     44\u001b[0m \u001b[0;34m\u001b[0m\u001b[0m\n\u001b[0;32m---> 45\u001b[0;31m         \u001b[0mPath\u001b[0m\u001b[0;34m(\u001b[0m\u001b[0mtmppath\u001b[0m\u001b[0;34m)\u001b[0m\u001b[0;34m.\u001b[0m\u001b[0mmkdir\u001b[0m\u001b[0;34m(\u001b[0m\u001b[0mparents\u001b[0m\u001b[0;34m=\u001b[0m\u001b[0;32mTrue\u001b[0m\u001b[0;34m,\u001b[0m \u001b[0mexist_ok\u001b[0m\u001b[0;34m=\u001b[0m\u001b[0;32mTrue\u001b[0m\u001b[0;34m)\u001b[0m\u001b[0;34m\u001b[0m\u001b[0;34m\u001b[0m\u001b[0m\n\u001b[0m\u001b[1;32m     46\u001b[0m         \u001b[0mnp\u001b[0m\u001b[0;34m.\u001b[0m\u001b[0msave\u001b[0m\u001b[0;34m(\u001b[0m\u001b[0mPath\u001b[0m\u001b[0;34m.\u001b[0m\u001b[0mjoinpath\u001b[0m\u001b[0;34m(\u001b[0m\u001b[0mtmppath\u001b[0m\u001b[0;34m,\u001b[0m\u001b[0;34m\"Labels_array\"\u001b[0m\u001b[0;34m)\u001b[0m\u001b[0;34m,\u001b[0m \u001b[0my_npy\u001b[0m\u001b[0;34m)\u001b[0m\u001b[0;34m\u001b[0m\u001b[0;34m\u001b[0m\u001b[0m\n\u001b[1;32m     47\u001b[0m         \u001b[0;31m#print(os.chdir(self.source_directory))\u001b[0m\u001b[0;34m\u001b[0m\u001b[0;34m\u001b[0m\u001b[0;34m\u001b[0m\u001b[0m\n",
            "\u001b[0;31mNameError\u001b[0m: name 'tmppath' is not defined"
          ]
        }
      ]
    },
    {
      "metadata": {
        "id": "-LtaYnrB8NXX",
        "colab_type": "code",
        "colab": {}
      },
      "cell_type": "code",
      "source": [
        "class Image_Loader:\n",
        "  \n",
        "    def __init__(self, root_path, source_dir_name, size, img_read_format, img_type = ('*.jpg', '*.png')):\n",
        "        self.project_path = root_path #root directory path of Mura-v1.1 dataset\n",
        "        self.root = Path(self.project_path)\n",
        "        self.source_directory = Path.joinpath(self.root, source_dir_name) #path from which image has to be read - Ex: train/test complete path\n",
        "        self.scaled_size = size #Dimension to which image has to be rescaled\n",
        "        self.formatRead = img_read_format #Format in which image has to be read : cv2.IMREAD_GRAYSCALE is by default used in this class by image_read_resize function#Future use #TODO\n",
        "        self.img_format_type = img_type #image's actual format, currently .jpg, .png are default\n",
        "        self.x_list=[]#empty list\n",
        "        self.y_list=[]\n",
        "        self.outpath = Path.joinpath(self.source_directory,\"Processed_Image\",\"XR_SHOULDER\",source_dir_name)  #Creating folder structure\n",
        "        Path(self.outpath).mkdir(parents=True, exist_ok=True) #Creating folders,even if exists create it\n",
        "        \n",
        "    #Labelling Images\n",
        "    #study1_positive and study1_negative are the only expected ones that can be processed as per MURA-v1.1 dataset\n",
        "    def label_img(self,img):\n",
        "      word_label = os.path.basename(os.path.dirname(img))\n",
        "      #print(word_label)\n",
        "      if \"positive\" in word_label: \n",
        "        return 1\n",
        "      elif \"negative\" in word_label:\n",
        "        return 0\n",
        "      \n",
        "      \n",
        "      \n",
        "    #Image_processing method\n",
        "    def image_read_resize(self, file, scaled_size, formatRead = cv2.IMREAD_GRAYSCALE):\n",
        "      #Reading image file in Grayscale mode, channel information removed\n",
        "      #Datagenerator usage TODO\n",
        "      formatRead = cv2.IMREAD_GRAYSCALE #set as default, also hardcoded as it's not possible to convert to numpy array without this#TODO\n",
        "      OrigImage = cv2.imread(file,formatRead)\n",
        "      #resizing image\n",
        "      width = scaled_size\n",
        "      height = scaled_size\n",
        "      dim = (width, height)\n",
        "      resizedImg = cv2.resize(OrigImage, dim)\n",
        "      return resizedImg\n",
        "    \n",
        "    \n",
        "    #Convert Image to list and numpy array\n",
        "    def image_to_list_numpy(self):\n",
        "      #print(self.source_directory)\n",
        "      for study_category in self.source_directory.iterdir():\n",
        "        if(os.path.isdir(study_category)):#Only check for directories\n",
        "          #print(study_category)\n",
        "          if study_category == (Path.joinpath(self.source_directory,\"XR_SHOULDER\")): #Only process shoulder, \"currently ONLY hardcoded line\", as it only needs shoulder, once this line is removed it will read all studies and all details\n",
        "            patient_list = sum(1 for _ in study_category.iterdir()) # converting number of patients to list\n",
        "            #print(patient_list)\n",
        "            for patient_id in study_category.iterdir():\n",
        "              if(os.path.isdir(patient_id)):\n",
        "                #print(patient_id)\n",
        "                for study_type in patient_id.iterdir():\n",
        "                  #print(study_type)\n",
        "                  #img_format_type = ('*.jpg', '*.png') #TODO: Type of files this expects, need to add exceptions, atleast one general exception, log file,NotADirectoryError\n",
        "                  for files in self.img_format_type:\n",
        "                    filelist = list(study_type.glob('**/'+ files))\n",
        "                  #print(filelist)\n",
        "                  #print(len(filelist))\n",
        "                  for fname in filelist:\n",
        "                    class_label = self.label_img(fname) #Calling label_img function to get the actual label of the image\n",
        "                    #print(class_label)\n",
        "                    for file in glob.glob(str(fname)):\n",
        "                      #print(file)\n",
        "                      resizedImg = self.image_read_resize(file,self.scaled_size) #TODO: Read the image and resize it as per dimensions, maybe multiple uses of scaled_size param can be avoided as its part of class\n",
        "                      self.x_list.append(resizedImg)\n",
        "                      self.y_list.append(class_label)\n",
        "                      x_npy = np.array(self.x_list)\n",
        "                      y_npy = np.array(self.y_list)\n",
        "      np.save(Path.joinpath(self.outpath,\"Images_array\"), x_npy)\n",
        "      np.save(Path.joinpath(self.outpath,\"Labels_array\"), y_npy)\n",
        "      #np.save((Path.joinpath(self.source_directory,\"Processed_Image\",\"XR_SHOULDER\",source_dir_name,\"Images_array\")), x_npy)#This indent has to match with  patient_list = sum(1 for _ in study_category.iterdir())*/ since only concerned abt shoulder\n",
        "      #np.save((Path.joinpath(self.source_directory,\"Processed_Image\",\"XR_SHOULDER\",source_dir_name,\"Labels_array\")), y_npy)\n",
        "      return self.x_list, self.y_list, x_npy, y_npy"
      ],
      "execution_count": 0,
      "outputs": []
    },
    {
      "metadata": {
        "id": "GdPuwys_RxJ4",
        "colab_type": "code",
        "colab": {}
      },
      "cell_type": "code",
      "source": [
        "#Train dataset:\n",
        "#Invoking / initializing class\n",
        "objImg = Image_Loader(\"/content/drive/My Drive/AIML/Capstone_Team/MURA-v1.1/\",\"train\",224,cv2.IMREAD_GRAYSCALE)"
      ],
      "execution_count": 0,
      "outputs": []
    },
    {
      "metadata": {
        "id": "eGmawXowUnwi",
        "colab_type": "code",
        "colab": {}
      },
      "cell_type": "code",
      "source": [
        "x_train, y_train, x_train_npy, y_train_npy  = objImg.image_to_list_numpy()"
      ],
      "execution_count": 0,
      "outputs": []
    },
    {
      "metadata": {
        "id": "aC-B5NLuYyl8",
        "colab_type": "code",
        "outputId": "aa9bb969-9d91-4ffa-da17-7cf67e7c94c4",
        "colab": {
          "base_uri": "https://localhost:8080/",
          "height": 34
        }
      },
      "cell_type": "code",
      "source": [
        "x_train_npy.shape, y_train_npy.shape #Number of images stored and its shape"
      ],
      "execution_count": 5,
      "outputs": [
        {
          "output_type": "execute_result",
          "data": {
            "text/plain": [
              "((8379, 224, 224), (8379,))"
            ]
          },
          "metadata": {
            "tags": []
          },
          "execution_count": 5
        }
      ]
    },
    {
      "metadata": {
        "id": "xVt6rgkgXnQs",
        "colab_type": "code",
        "colab": {}
      },
      "cell_type": "code",
      "source": [
        "Images = np.load('/content/drive/My Drive/AIML/Capstone/MURA-v1.1/train/Processed_Image/XR_SHOULDER/train/Images_array.npy')\n",
        "labels = np.load('/content/drive/My Drive/AIML/Capstone/MURA-v1.1/train/Processed_Image/XR_SHOULDER/train/Labels_array.npy')"
      ],
      "execution_count": 0,
      "outputs": []
    },
    {
      "metadata": {
        "id": "dd_vOthVYN12",
        "colab_type": "code",
        "outputId": "7f1ec61a-b5ae-441f-a0c8-d1ebe20b70aa",
        "colab": {
          "base_uri": "https://localhost:8080/",
          "height": 34
        }
      },
      "cell_type": "code",
      "source": [
        "Images.shape, labels.shape"
      ],
      "execution_count": 0,
      "outputs": [
        {
          "output_type": "execute_result",
          "data": {
            "text/plain": [
              "((5, 224, 224), (5,))"
            ]
          },
          "metadata": {
            "tags": []
          },
          "execution_count": 10
        }
      ]
    }
  ]
}