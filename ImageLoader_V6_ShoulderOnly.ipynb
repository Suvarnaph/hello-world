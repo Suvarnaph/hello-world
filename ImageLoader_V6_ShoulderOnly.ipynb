{
  "nbformat": 4,
  "nbformat_minor": 0,
  "metadata": {
    "colab": {
      "name": "ImageLoader_V6_ShoulderOnly.ipynb",
      "version": "0.3.2",
      "provenance": [],
      "collapsed_sections": [],
      "include_colab_link": true
    },
    "kernelspec": {
      "name": "python3",
      "display_name": "Python 3"
    }
  },
  "cells": [
    {
      "cell_type": "markdown",
      "metadata": {
        "id": "view-in-github",
        "colab_type": "text"
      },
      "source": [
        "<a href=\"https://colab.research.google.com/github/Suvarnaph/hello-world/blob/master/ImageLoader_V6_ShoulderOnly.ipynb\" target=\"_parent\"><img src=\"https://colab.research.google.com/assets/colab-badge.svg\" alt=\"Open In Colab\"/></a>"
      ]
    },
    {
      "metadata": {
        "id": "H47bVoA8a3_r",
        "colab_type": "code",
        "outputId": "1dba47ae-c2cb-40e1-d095-374a8ec3ca90",
        "colab": {
          "base_uri": "https://localhost:8080/",
          "height": 34
        }
      },
      "cell_type": "code",
      "source": [
        "#Import statements\n",
        "from google.colab import drive\n",
        "drive.mount('/content/drive/')\n",
        "\n",
        "from __future__ import absolute_import, division, print_function\n",
        "from pathlib import Path\n",
        "import re\n",
        "import os\n",
        "from os import getcwd\n",
        "from os.path import exists, isdir, isfile, join\n",
        "import shutil\n",
        "import numpy as np\n",
        "import pandas as pd\n",
        "import glob\n",
        "import cv2\n",
        "\n",
        "%matplotlib inline\n",
        "from matplotlib import pyplot as plt"
      ],
      "execution_count": 1,
      "outputs": [
        {
          "output_type": "stream",
          "text": [
            "Drive already mounted at /content/drive/; to attempt to forcibly remount, call drive.mount(\"/content/drive/\", force_remount=True).\n"
          ],
          "name": "stdout"
        }
      ]
    },
    {
      "metadata": {
        "id": "VtzWLEYFceJD",
        "colab_type": "code",
        "colab": {}
      },
      "cell_type": "code",
      "source": [
        "#Testing : Extracting only shoulder\n",
        "class Image_Loader:\n",
        "  \n",
        "    def __init__(self, root_path, source_dir_name, size, img_read_format, img_type = ('*.jpg', '*.png')):\n",
        "        self.project_path = root_path #root directory path of Mura-v1.1 dataset\n",
        "        self.root = Path(self.project_path)\n",
        "        self.source_directory = Path.joinpath(self.root, source_dir_name) #path from which image has to be read - Ex: train/test complete path\n",
        "        Path.joinpath(self.root, source_dir_name)\n",
        "        self.tmp = Path.joinpath(self.source_directory,\"XR_SHOULDER\")\n",
        "        #print(self.tmp)\n",
        "        #print(self.source_directory)\n",
        "        for study_category in self.source_directory.iterdir():\n",
        "          if(os.path.isdir(study_category)):#Only check for directories\n",
        "            if study_category == (Path.joinpath(self.source_directory,\"XR_SHOULDER\")):\n",
        "              print(study_category)\n",
        "              print(type(study_category))\n",
        "              study_str = str(study_category)\n",
        "              tmp2 = Path.joinpath(self.source_directory,\"XR_SHOULDER\")\n",
        "              print((tmp2))\n",
        "              print(type(tmp2))\n",
        "              str_tmp2 = str(tmp2)\n",
        "              print(tmp2 == study_category)\n",
        "              if tmp2 == study_category:\n",
        "                print(\"paths printing hit\")\n",
        "                print(tmp2 == study_category)\n",
        "              print(\"printing string\")\n",
        "              print(study_str)\n",
        "              print(type(study_str))\n",
        "              print(str_tmp2)\n",
        "              print(type(str_tmp2))\n",
        "              print(study_str == str_tmp2)\n",
        "              if study_str == str_tmp2:\n",
        "                print(\"hit here\")\n",
        "              "
      ],
      "execution_count": 0,
      "outputs": []
    },
    {
      "metadata": {
        "id": "DWCm9C33cZJU",
        "colab_type": "code",
        "colab": {
          "base_uri": "https://localhost:8080/",
          "height": 255
        },
        "outputId": "09e6260b-3682-4ff8-ec03-2a86c21dadc3"
      },
      "cell_type": "code",
      "source": [
        "#Testing\n",
        "objImg = Image_Loader(\"/content/drive/My Drive/AIML/Capstone/MURA-v1.1/\",\"train\",224,cv2.IMREAD_GRAYSCALE)"
      ],
      "execution_count": 38,
      "outputs": [
        {
          "output_type": "stream",
          "text": [
            "/content/drive/My Drive/AIML/Capstone/MURA-v1.1/train/XR_SHOULDER\n",
            "<class 'pathlib.PosixPath'>\n",
            "/content/drive/My Drive/AIML/Capstone/MURA-v1.1/train/XR_SHOULDER\n",
            "<class 'pathlib.PosixPath'>\n",
            "True\n",
            "paths printing hit\n",
            "True\n",
            "printing string\n",
            "/content/drive/My Drive/AIML/Capstone/MURA-v1.1/train/XR_SHOULDER\n",
            "<class 'str'>\n",
            "/content/drive/My Drive/AIML/Capstone/MURA-v1.1/train/XR_SHOULDER\n",
            "<class 'str'>\n",
            "True\n",
            "hit here\n"
          ],
          "name": "stdout"
        }
      ]
    },
    {
      "metadata": {
        "id": "-LtaYnrB8NXX",
        "colab_type": "code",
        "colab": {}
      },
      "cell_type": "code",
      "source": [
        "class Image_Loader:\n",
        "  \n",
        "    def __init__(self, root_path, source_dir_name, size, img_read_format, img_type = ('*.jpg', '*.png')):\n",
        "        self.project_path = root_path #root directory path of Mura-v1.1 dataset\n",
        "        self.root = Path(self.project_path)\n",
        "        self.source_directory = Path.joinpath(self.root, source_dir_name) #path from which image has to be read - Ex: train/test complete path\n",
        "        self.scaled_size = size #Dimension to which image has to be rescaled\n",
        "        self.formatRead = img_read_format #Format in which image has to be read : cv2.IMREAD_GRAYSCALE is by default used in this class by image_read_resize function#Future use #TODO\n",
        "        self.img_format_type = img_type #image's actual format, currently .jpg, .png are default\n",
        "        self.x_list=[]#empty list\n",
        "        self.y_list=[]\n",
        "        \n",
        "    #Labelling Images\n",
        "    #study1_positive and study1_negative are the only expected ones that can be processed as per MURA-v1.1 dataset\n",
        "    def label_img(self,img):\n",
        "      word_label = os.path.basename(os.path.dirname(img))\n",
        "      print(word_label)\n",
        "      if word_label == 'study1_positive': return 1\n",
        "      elif word_label == 'study1_negative': return 0\n",
        "      \n",
        "      \n",
        "      \n",
        "    #Image_processing method\n",
        "    def image_read_resize(self, file, scaled_size, formatRead = cv2.IMREAD_GRAYSCALE):\n",
        "      #Reading image file in Grayscale mode, channel information removed\n",
        "      #Datagenerator usage TODO\n",
        "      formatRead = cv2.IMREAD_GRAYSCALE #set as default, also hardcoded as it's not possible to convert to numpy array without this#TODO\n",
        "      OrigImage = cv2.imread(file,formatRead)\n",
        "      #resizing image\n",
        "      width = scaled_size\n",
        "      height = scaled_size\n",
        "      dim = (width, height)\n",
        "      resizedImg = cv2.resize(OrigImage, dim)\n",
        "      return resizedImg\n",
        "    \n",
        "    \n",
        "    #Convert Image to list and numpy array\n",
        "    def image_to_list_numpy(self):\n",
        "      print(self.source_directory)\n",
        "      for study_category in self.source_directory.iterdir():\n",
        "        if(os.path.isdir(study_category)):#Only check for directories\n",
        "          print(study_category)\n",
        "          if study_category == (Path.joinpath(self.source_directory,\"XR_SHOULDER\")): #Only process shoulder, \"currently ONLY hardcoded line\", as it only needs shoulder, once this line is removed it will read all studies and all details\n",
        "            patient_list = sum(1 for _ in study_category.iterdir()) # converting number of patients to list\n",
        "            print(patient_list)\n",
        "            for patient_id in study_category.iterdir():\n",
        "              print(patient_id)\n",
        "              for study_type in patient_id.iterdir():\n",
        "                print(study_type)\n",
        "                #img_format_type = ('*.jpg', '*.png') #TODO: Type of files this expects, need to add exceptions, atleast one general exception, log file,NotADirectoryError\n",
        "                for files in self.img_format_type:\n",
        "                  filelist = list(study_type.glob('**/'+ files))\n",
        "                print(filelist)\n",
        "                print(len(filelist))\n",
        "                for fname in filelist:\n",
        "                  class_label = self.label_img(fname) #Calling label_img function to get the actual label of the image\n",
        "                  print(class_label)\n",
        "                  for file in glob.glob(str(fname)):\n",
        "                    print(file)\n",
        "                    resizedImg = self.image_read_resize(file,self.scaled_size) #TODO: Read the image and resize it as per dimensions, maybe multiple uses of scaled_size param can be avoided as its part of class\n",
        "                    self.x_list.append(resizedImg)\n",
        "                    self.y_list.append(class_label)\n",
        "                    x_npy = np.array(self.x_list)\n",
        "                    y_npy = np.array(self.y_list)\n",
        "      np.save((Path.joinpath(self.source_directory,\"XR_SHOULDER\",\"Images_array\")), x_npy)#This indent has to match with  patient_list = sum(1 for _ in study_category.iterdir())*/ since only concerned abt shoulder\n",
        "      np.save((Path.joinpath(self.source_directory,\"XR_SHOULDER\",\"Labels_array\")), y_npy)\n",
        "      return self.x_list, self.y_list, x_npy, y_npy"
      ],
      "execution_count": 0,
      "outputs": []
    },
    {
      "metadata": {
        "id": "GdPuwys_RxJ4",
        "colab_type": "code",
        "colab": {}
      },
      "cell_type": "code",
      "source": [
        "#Train dataset:\n",
        "#Invoking / initializing class\n",
        "\n",
        "objImg = Image_Loader(\"/content/drive/My Drive/AIML/Capstone/MURA-v1.1/\",\"train\",224,cv2.IMREAD_GRAYSCALE)"
      ],
      "execution_count": 0,
      "outputs": []
    },
    {
      "metadata": {
        "id": "eGmawXowUnwi",
        "colab_type": "code",
        "outputId": "51514738-63bd-449c-d6d9-35242db627dc",
        "colab": {
          "base_uri": "https://localhost:8080/",
          "height": 496
        }
      },
      "cell_type": "code",
      "source": [
        "x_train, y_train, x_train_npy, y_train_npy  = objImg.image_to_list_numpy()"
      ],
      "execution_count": 7,
      "outputs": [
        {
          "output_type": "stream",
          "text": [
            "/content/drive/My Drive/AIML/Capstone/MURA-v1.1/train\n",
            "/content/drive/My Drive/AIML/Capstone/MURA-v1.1/train/XR_HAND\n",
            "/content/drive/My Drive/AIML/Capstone/MURA-v1.1/train/XR_SHOULDER\n",
            "2\n",
            "/content/drive/My Drive/AIML/Capstone/MURA-v1.1/train/XR_SHOULDER/patient02694\n",
            "/content/drive/My Drive/AIML/Capstone/MURA-v1.1/train/XR_SHOULDER/patient02694/study1_negative\n",
            "[PosixPath('/content/drive/My Drive/AIML/Capstone/MURA-v1.1/train/XR_SHOULDER/patient02694/study1_negative/image2.png'), PosixPath('/content/drive/My Drive/AIML/Capstone/MURA-v1.1/train/XR_SHOULDER/patient02694/study1_negative/image1.png')]\n",
            "2\n",
            "study1_negative\n",
            "0\n",
            "/content/drive/My Drive/AIML/Capstone/MURA-v1.1/train/XR_SHOULDER/patient02694/study1_negative/image2.png\n",
            "study1_negative\n",
            "0\n",
            "/content/drive/My Drive/AIML/Capstone/MURA-v1.1/train/XR_SHOULDER/patient02694/study1_negative/image1.png\n",
            "/content/drive/My Drive/AIML/Capstone/MURA-v1.1/train/XR_SHOULDER/patient02693\n",
            "/content/drive/My Drive/AIML/Capstone/MURA-v1.1/train/XR_SHOULDER/patient02693/study1_negative\n",
            "[PosixPath('/content/drive/My Drive/AIML/Capstone/MURA-v1.1/train/XR_SHOULDER/patient02693/study1_negative/image1.png'), PosixPath('/content/drive/My Drive/AIML/Capstone/MURA-v1.1/train/XR_SHOULDER/patient02693/study1_negative/image2.png'), PosixPath('/content/drive/My Drive/AIML/Capstone/MURA-v1.1/train/XR_SHOULDER/patient02693/study1_negative/image3.png')]\n",
            "3\n",
            "study1_negative\n",
            "0\n",
            "/content/drive/My Drive/AIML/Capstone/MURA-v1.1/train/XR_SHOULDER/patient02693/study1_negative/image1.png\n",
            "study1_negative\n",
            "0\n",
            "/content/drive/My Drive/AIML/Capstone/MURA-v1.1/train/XR_SHOULDER/patient02693/study1_negative/image2.png\n",
            "study1_negative\n",
            "0\n",
            "/content/drive/My Drive/AIML/Capstone/MURA-v1.1/train/XR_SHOULDER/patient02693/study1_negative/image3.png\n"
          ],
          "name": "stdout"
        }
      ]
    },
    {
      "metadata": {
        "id": "aC-B5NLuYyl8",
        "colab_type": "code",
        "outputId": "7bdf5e30-1ab1-4053-8ba0-820b46d7d617",
        "colab": {
          "base_uri": "https://localhost:8080/",
          "height": 34
        }
      },
      "cell_type": "code",
      "source": [
        "x_train_npy.shape, y_train_npy.shape #Number of images stored and its shape"
      ],
      "execution_count": 8,
      "outputs": [
        {
          "output_type": "execute_result",
          "data": {
            "text/plain": [
              "((5, 224, 224), (5,))"
            ]
          },
          "metadata": {
            "tags": []
          },
          "execution_count": 8
        }
      ]
    },
    {
      "metadata": {
        "id": "xVt6rgkgXnQs",
        "colab_type": "code",
        "colab": {}
      },
      "cell_type": "code",
      "source": [
        "Images = np.load('/content/drive/My Drive/AIML/Capstone/MURA-v1.1/train/XR_SHOULDER/Images_array.npy')\n",
        "labels = np.load('/content/drive/My Drive/AIML/Capstone/MURA-v1.1/train/XR_SHOULDER/Labels_array.npy')"
      ],
      "execution_count": 0,
      "outputs": []
    },
    {
      "metadata": {
        "id": "dd_vOthVYN12",
        "colab_type": "code",
        "outputId": "7f1ec61a-b5ae-441f-a0c8-d1ebe20b70aa",
        "colab": {
          "base_uri": "https://localhost:8080/",
          "height": 34
        }
      },
      "cell_type": "code",
      "source": [
        "Images.shape, labels.shape"
      ],
      "execution_count": 10,
      "outputs": [
        {
          "output_type": "execute_result",
          "data": {
            "text/plain": [
              "((5, 224, 224), (5,))"
            ]
          },
          "metadata": {
            "tags": []
          },
          "execution_count": 10
        }
      ]
    }
  ]
}