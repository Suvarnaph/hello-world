{
  "nbformat": 4,
  "nbformat_minor": 0,
  "metadata": {
    "colab": {
      "name": "ImageLoader_V9.ipynb",
      "version": "0.3.2",
      "provenance": [],
      "collapsed_sections": [],
      "include_colab_link": true
    },
    "kernelspec": {
      "name": "python3",
      "display_name": "Python 3"
    },
    "accelerator": "GPU"
  },
  "cells": [
    {
      "cell_type": "markdown",
      "metadata": {
        "id": "view-in-github",
        "colab_type": "text"
      },
      "source": [
        "<a href=\"https://colab.research.google.com/github/Suvarnaph/hello-world/blob/master/ImageLoader_V9.ipynb\" target=\"_parent\"><img src=\"https://colab.research.google.com/assets/colab-badge.svg\" alt=\"Open In Colab\"/></a>"
      ]
    },
    {
      "metadata": {
        "id": "H47bVoA8a3_r",
        "colab_type": "code",
        "outputId": "c3c7032b-1403-4046-f3c1-3043a8780a44",
        "colab": {
          "base_uri": "https://localhost:8080/",
          "height": 34
        }
      },
      "cell_type": "code",
      "source": [
        "#Import statements\n",
        "from google.colab import drive\n",
        "drive.mount('/content/drive/')\n",
        "\n",
        "from __future__ import absolute_import, division, print_function\n",
        "from pathlib import Path\n",
        "import re\n",
        "import os\n",
        "from os import getcwd\n",
        "from os.path import exists, isdir, isfile, join\n",
        "import shutil\n",
        "import numpy as np\n",
        "import pandas as pd\n",
        "import glob\n",
        "import cv2\n",
        "\n",
        "%matplotlib inline\n",
        "from matplotlib import pyplot as plt"
      ],
      "execution_count": 0,
      "outputs": [
        {
          "output_type": "stream",
          "text": [
            "Drive already mounted at /content/drive/; to attempt to forcibly remount, call drive.mount(\"/content/drive/\", force_remount=True).\n"
          ],
          "name": "stdout"
        }
      ]
    },
    {
      "metadata": {
        "id": "-LtaYnrB8NXX",
        "colab_type": "code",
        "colab": {}
      },
      "cell_type": "code",
      "source": [
        "class Image_Loader:\n",
        "  \n",
        "    def __init__(self, root_path, source_dir_name, size, img_read_format, img_type = ('*.jpg', '*.png')):\n",
        "        self.project_path = root_path \n",
        "        self.root = Path(self.project_path)\n",
        "        self.source_directory = Path.joinpath(self.root, source_dir_name) \n",
        "        self.scaled_size = size \n",
        "        self.formatRead = img_read_format\n",
        "        self.img_format_type = img_type\n",
        "        self.x_list=[]\n",
        "        self.y_list=[]\n",
        "        self.outpath = Path.joinpath(self.source_directory,\"Processed_Image\",\"XR_SHOULDER\",source_dir_name) \n",
        "        Path(self.outpath).mkdir(parents=True, exist_ok=True)\n",
        "        \n",
        "    #Labelling Images\n",
        "    def label_img(self,img):\n",
        "      word_label = os.path.basename(os.path.dirname(img))\n",
        "      #print(word_label)\n",
        "      if \"positive\" in word_label: \n",
        "        return 1\n",
        "      elif \"negative\" in word_label:\n",
        "        return 0\n",
        "      \n",
        "      \n",
        "      \n",
        "    #Image_processing method\n",
        "    def image_read_resize(self, file, scaled_size, formatRead = cv2.IMREAD_GRAYSCALE):\n",
        "      formatRead = cv2.IMREAD_GRAYSCALE\n",
        "      OrigImage = cv2.imread(file,formatRead)\n",
        "      #resizing image\n",
        "      width = scaled_size\n",
        "      height = scaled_size\n",
        "      dim = (width, height)\n",
        "      resizedImg = cv2.resize(OrigImage, dim)\n",
        "      return resizedImg\n",
        "    \n",
        "    \n",
        "    #Convert Image to list and numpy array; Study - XR_SHOULDER:\n",
        "    def image_to_list_numpy(self):\n",
        "      for study_category in self.source_directory.iterdir():\n",
        "        if(os.path.isdir(study_category)):\n",
        "          if study_category == (Path.joinpath(self.source_directory,\"XR_SHOULDER\")): \n",
        "            patient_list = sum(1 for _ in study_category.iterdir())\n",
        "            for patient_id in study_category.iterdir():\n",
        "              if(os.path.isdir(patient_id)):\n",
        "                for study_type in patient_id.iterdir():\n",
        "                  for files in self.img_format_type:\n",
        "                    filelist = list(study_type.glob('**/'+ files))\n",
        "                  for fname in filelist:\n",
        "                    class_label = self.label_img(fname)\n",
        "                    for file in glob.glob(str(fname)):\n",
        "                      resizedImg = self.image_read_resize(file,self.scaled_size)\n",
        "                      self.x_list.append(resizedImg)\n",
        "                      self.y_list.append(class_label)\n",
        "                      x_npy = np.array(self.x_list)\n",
        "                      y_npy = np.array(self.y_list)\n",
        "      np.save(Path.joinpath(self.outpath,\"Images_array\"), x_npy)\n",
        "      np.save(Path.joinpath(self.outpath,\"Labels_array\"), y_npy)\n",
        "      return self.x_list, self.y_list, x_npy, y_npy"
      ],
      "execution_count": 0,
      "outputs": []
    },
    {
      "metadata": {
        "id": "GdPuwys_RxJ4",
        "colab_type": "code",
        "colab": {}
      },
      "cell_type": "code",
      "source": [
        "#Train dataset:\n",
        "objImg = Image_Loader(\"/content/drive/My Drive/AIML/Capstone_Team/MURA-v1.1/\",\"train\",224,cv2.IMREAD_GRAYSCALE)"
      ],
      "execution_count": 0,
      "outputs": []
    },
    {
      "metadata": {
        "id": "eGmawXowUnwi",
        "colab_type": "code",
        "colab": {}
      },
      "cell_type": "code",
      "source": [
        "x_train, y_train, x_train_npy, y_train_npy  = objImg.image_to_list_numpy()"
      ],
      "execution_count": 0,
      "outputs": []
    },
    {
      "metadata": {
        "id": "aC-B5NLuYyl8",
        "colab_type": "code",
        "outputId": "aa9bb969-9d91-4ffa-da17-7cf67e7c94c4",
        "colab": {
          "base_uri": "https://localhost:8080/",
          "height": 34
        }
      },
      "cell_type": "code",
      "source": [
        "x_train_npy.shape, y_train_npy.shape"
      ],
      "execution_count": 0,
      "outputs": [
        {
          "output_type": "execute_result",
          "data": {
            "text/plain": [
              "((8379, 224, 224), (8379,))"
            ]
          },
          "metadata": {
            "tags": []
          },
          "execution_count": 5
        }
      ]
    },
    {
      "metadata": {
        "id": "xVt6rgkgXnQs",
        "colab_type": "code",
        "colab": {}
      },
      "cell_type": "code",
      "source": [
        "Images = np.load('/content/drive/My Drive/AIML/Capstone/MURA-v1.1/train/Processed_Image/XR_SHOULDER/train/Images_array.npy')\n",
        "labels = np.load('/content/drive/My Drive/AIML/Capstone/MURA-v1.1/train/Processed_Image/XR_SHOULDER/train/Labels_array.npy')"
      ],
      "execution_count": 0,
      "outputs": []
    },
    {
      "metadata": {
        "id": "dd_vOthVYN12",
        "colab_type": "code",
        "outputId": "7f1ec61a-b5ae-441f-a0c8-d1ebe20b70aa",
        "colab": {
          "base_uri": "https://localhost:8080/",
          "height": 34
        }
      },
      "cell_type": "code",
      "source": [
        "Images.shape, labels.shape"
      ],
      "execution_count": 0,
      "outputs": [
        {
          "output_type": "execute_result",
          "data": {
            "text/plain": [
              "((5, 224, 224), (5,))"
            ]
          },
          "metadata": {
            "tags": []
          },
          "execution_count": 10
        }
      ]
    },
    {
      "metadata": {
        "id": "Xcyjju3UPUzM",
        "colab_type": "code",
        "colab": {}
      },
      "cell_type": "code",
      "source": [
        "#Validation/Test (original) dataset\n",
        "objImg_test = Image_Loader(\"/content/drive/My Drive/AIML/Capstone_Team/MURA-v1.1/\",\"valid\",224,cv2.IMREAD_GRAYSCALE)"
      ],
      "execution_count": 0,
      "outputs": []
    },
    {
      "metadata": {
        "id": "enYNT6g1PduX",
        "colab_type": "code",
        "colab": {}
      },
      "cell_type": "code",
      "source": [
        "x_test, y_test, x_test_npy, y_test_npy  = objImg_test.image_to_list_numpy()"
      ],
      "execution_count": 0,
      "outputs": []
    },
    {
      "metadata": {
        "id": "Gx4Nzy1IPfD9",
        "colab_type": "code",
        "outputId": "45b8d941-2d4f-4535-e0b6-31dcb259eb06",
        "colab": {
          "base_uri": "https://localhost:8080/",
          "height": 34
        }
      },
      "cell_type": "code",
      "source": [
        "x_test_npy.shape, y_test_npy.shape "
      ],
      "execution_count": 0,
      "outputs": [
        {
          "output_type": "execute_result",
          "data": {
            "text/plain": [
              "((563, 224, 224), (563,))"
            ]
          },
          "metadata": {
            "tags": []
          },
          "execution_count": 6
        }
      ]
    }
  ]
}