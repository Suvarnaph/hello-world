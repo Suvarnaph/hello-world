{
  "nbformat": 4,
  "nbformat_minor": 0,
  "metadata": {
    "colab": {
      "name": "ImageLoader_V2.ipynb",
      "version": "0.3.2",
      "provenance": [],
      "collapsed_sections": [],
      "include_colab_link": true
    },
    "kernelspec": {
      "name": "python3",
      "display_name": "Python 3"
    }
  },
  "cells": [
    {
      "cell_type": "markdown",
      "metadata": {
        "id": "view-in-github",
        "colab_type": "text"
      },
      "source": [
        "<a href=\"https://colab.research.google.com/github/Suvarnaph/hello-world/blob/master/ImageLoader_V2.ipynb\" target=\"_parent\"><img src=\"https://colab.research.google.com/assets/colab-badge.svg\" alt=\"Open In Colab\"/></a>"
      ]
    },
    {
      "metadata": {
        "id": "H47bVoA8a3_r",
        "colab_type": "code",
        "outputId": "860d48bc-0c17-41bb-fc87-46f5bb5bcafb",
        "colab": {
          "base_uri": "https://localhost:8080/",
          "height": 34
        }
      },
      "cell_type": "code",
      "source": [
        "from google.colab import drive\n",
        "drive.mount('/content/drive/')\n",
        "\n",
        "#project_path = \"/content/drive/My Drive/AIML/Capstone_Team/MURA-v1.1/\" #Actual project path\n",
        "project_path = \"/content/drive/My Drive/AIML/Capstone/MURA-v1.1/\" #sample path containing only few images\n",
        "\n",
        "from __future__ import absolute_import, division, print_function\n",
        "from pathlib import Path\n",
        "import re\n",
        "import os\n",
        "from os import getcwd\n",
        "from os.path import exists, isdir, isfile, join\n",
        "import shutil\n",
        "import numpy as np\n",
        "import pandas as pd\n",
        "import glob\n",
        "import cv2\n",
        "\n",
        "%matplotlib inline\n",
        "from matplotlib import pyplot as plt\n",
        "\n",
        "root = Path(project_path)\n",
        "train_dir = root/'train/' #create train path\n",
        "test_dir = root/'valid/' #create valid(test) path"
      ],
      "execution_count": 1,
      "outputs": [
        {
          "output_type": "stream",
          "text": [
            "Drive already mounted at /content/drive/; to attempt to forcibly remount, call drive.mount(\"/content/drive/\", force_remount=True).\n"
          ],
          "name": "stdout"
        }
      ]
    },
    {
      "metadata": {
        "id": "spSSLVDXbGHn",
        "colab_type": "code",
        "colab": {}
      },
      "cell_type": "code",
      "source": [
        "#Labelling Images\n",
        "def label_img(img):\n",
        "    word_label = os.path.basename(os.path.dirname(img))\n",
        "    print(word_label)\n",
        "    if word_label == 'study1_positive': return 1\n",
        "    elif word_label == 'study1_negative': return 0"
      ],
      "execution_count": 0,
      "outputs": []
    },
    {
      "metadata": {
        "id": "7px-3z03c9iD",
        "colab_type": "code",
        "colab": {}
      },
      "cell_type": "code",
      "source": [
        "#Image_processing method\n",
        "def image_read_resize(file,size):\n",
        "  #Reading image file in Grayscale mode, channel information removed\n",
        "  formatRead = cv2.IMREAD_GRAYSCALE\n",
        "  OrigImage = cv2.imread(file,formatRead)\n",
        "  \n",
        "  #resizing image\n",
        "  width = size\n",
        "  height = size\n",
        "  dim = (width, height)\n",
        "  resizedImg = cv2.resize(OrigImage, dim)\n",
        "  return resizedImg"
      ],
      "execution_count": 0,
      "outputs": []
    },
    {
      "metadata": {
        "id": "9F5vfbK0fHD7",
        "colab_type": "code",
        "colab": {}
      },
      "cell_type": "code",
      "source": [
        "#Convert Image to list and numpy array\n",
        "x_list = []\n",
        "y_list = []\n",
        "\n",
        "def image_to_list_numpy(x_list, y_list,size, source_directory):\n",
        "  print(source_directory)\n",
        "  for study_category in source_directory.iterdir():\n",
        "    print(study_category)\n",
        "    patient_list = sum(1 for _ in study_category.iterdir()) # converting number of patients to list\n",
        "    print(patient_list)\n",
        "    for patient_id in study_category.iterdir():\n",
        "      print(patient_id)\n",
        "      for study_type in patient_id.iterdir():\n",
        "        print(study_type)\n",
        "        filelist = list(study_type.glob('**/*.png'))\n",
        "        print(filelist)\n",
        "        print(len(filelist))\n",
        "        for fname in filelist:\n",
        "          class_label= label_img(fname)\n",
        "          print(class_label)\n",
        "          for file in glob.glob(str(fname)):\n",
        "            print(file)\n",
        "            resizedImg = image_read_resize(file,size)\n",
        "            x_list.append(resizedImg)\n",
        "            y_list.append(class_label)\n",
        "            x_npy = np.array(x_list)\n",
        "            y_npy = np.array(y_list)\n",
        "  return x_list, y_list,x_npy,y_npy"
      ],
      "execution_count": 0,
      "outputs": []
    },
    {
      "metadata": {
        "id": "1CSmCA9qEYOz",
        "colab_type": "code",
        "outputId": "fb057400-b15c-453b-981d-e776534079ea",
        "colab": {
          "base_uri": "https://localhost:8080/",
          "height": 530
        }
      },
      "cell_type": "code",
      "source": [
        "#Sample usage of above functions to create train files/arrays:\n",
        "#Ex: train is used in this case, can be done for test as well\n",
        "x_train, y_train, x_train_npy, y_train_npy = image_to_list_numpy(x_list, y_list, size=224, source_directory=train_dir)\n",
        "#x_train , y_train - list\n",
        "# x_train_npy, y_train_npy - Array format\n",
        "#size of image - dimension in which image has to be resized"
      ],
      "execution_count": 6,
      "outputs": [
        {
          "output_type": "stream",
          "text": [
            "/content/drive/My Drive/AIML/Capstone/MURA-v1.1/train\n",
            "/content/drive/My Drive/AIML/Capstone/MURA-v1.1/train/XR_HAND\n",
            "2\n",
            "/content/drive/My Drive/AIML/Capstone/MURA-v1.1/train/XR_HAND/patient00008\n",
            "/content/drive/My Drive/AIML/Capstone/MURA-v1.1/train/XR_HAND/patient00008/study1_positive\n",
            "[PosixPath('/content/drive/My Drive/AIML/Capstone/MURA-v1.1/train/XR_HAND/patient00008/study1_positive/image1.png'), PosixPath('/content/drive/My Drive/AIML/Capstone/MURA-v1.1/train/XR_HAND/patient00008/study1_positive/image2.png'), PosixPath('/content/drive/My Drive/AIML/Capstone/MURA-v1.1/train/XR_HAND/patient00008/study1_positive/image3.png')]\n",
            "3\n",
            "study1_positive\n",
            "1\n",
            "/content/drive/My Drive/AIML/Capstone/MURA-v1.1/train/XR_HAND/patient00008/study1_positive/image1.png\n",
            "study1_positive\n",
            "1\n",
            "/content/drive/My Drive/AIML/Capstone/MURA-v1.1/train/XR_HAND/patient00008/study1_positive/image2.png\n",
            "study1_positive\n",
            "1\n",
            "/content/drive/My Drive/AIML/Capstone/MURA-v1.1/train/XR_HAND/patient00008/study1_positive/image3.png\n",
            "/content/drive/My Drive/AIML/Capstone/MURA-v1.1/train/XR_HAND/patient00050\n",
            "/content/drive/My Drive/AIML/Capstone/MURA-v1.1/train/XR_HAND/patient00050/study1_negative\n",
            "[PosixPath('/content/drive/My Drive/AIML/Capstone/MURA-v1.1/train/XR_HAND/patient00050/study1_negative/image3.png'), PosixPath('/content/drive/My Drive/AIML/Capstone/MURA-v1.1/train/XR_HAND/patient00050/study1_negative/image2.png'), PosixPath('/content/drive/My Drive/AIML/Capstone/MURA-v1.1/train/XR_HAND/patient00050/study1_negative/image1.png')]\n",
            "3\n",
            "study1_negative\n",
            "0\n",
            "/content/drive/My Drive/AIML/Capstone/MURA-v1.1/train/XR_HAND/patient00050/study1_negative/image3.png\n",
            "study1_negative\n",
            "0\n",
            "/content/drive/My Drive/AIML/Capstone/MURA-v1.1/train/XR_HAND/patient00050/study1_negative/image2.png\n",
            "study1_negative\n",
            "0\n",
            "/content/drive/My Drive/AIML/Capstone/MURA-v1.1/train/XR_HAND/patient00050/study1_negative/image1.png\n"
          ],
          "name": "stdout"
        }
      ]
    },
    {
      "metadata": {
        "id": "olXNjfWp3eLu",
        "colab_type": "code",
        "colab": {}
      },
      "cell_type": "code",
      "source": [
        "#Storing images as numpy arrays for train directory\n",
        "np.save(train_dir/'Images_train_array/', x_train_npy)\n",
        "np.save(train_dir/'labels_train_array/', y_train_npy)\n",
        "#same can be modified for test directory by removing train_dir and putting that directory variable . i.e test_dir"
      ],
      "execution_count": 0,
      "outputs": []
    },
    {
      "metadata": {
        "id": "dX3FxqH01JhJ",
        "colab_type": "code",
        "outputId": "78385cc4-d144-48ed-e016-3c452052369b",
        "colab": {
          "base_uri": "https://localhost:8080/",
          "height": 34
        }
      },
      "cell_type": "code",
      "source": [
        "x_train_npy.shape, y_train_npy.shape #Number of images stored and its shape"
      ],
      "execution_count": 8,
      "outputs": [
        {
          "output_type": "execute_result",
          "data": {
            "text/plain": [
              "((6, 224, 224), (6,))"
            ]
          },
          "metadata": {
            "tags": []
          },
          "execution_count": 8
        }
      ]
    }
  ]
}