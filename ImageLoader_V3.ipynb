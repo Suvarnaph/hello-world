{
  "nbformat": 4,
  "nbformat_minor": 0,
  "metadata": {
    "colab": {
      "name": "ImageLoader_V3.ipynb",
      "version": "0.3.2",
      "provenance": [],
      "collapsed_sections": [],
      "include_colab_link": true
    },
    "kernelspec": {
      "name": "python3",
      "display_name": "Python 3"
    }
  },
  "cells": [
    {
      "cell_type": "markdown",
      "metadata": {
        "id": "view-in-github",
        "colab_type": "text"
      },
      "source": [
        "<a href=\"https://colab.research.google.com/github/Suvarnaph/hello-world/blob/master/ImageLoader_V3.ipynb\" target=\"_parent\"><img src=\"https://colab.research.google.com/assets/colab-badge.svg\" alt=\"Open In Colab\"/></a>"
      ]
    },
    {
      "metadata": {
        "id": "H47bVoA8a3_r",
        "colab_type": "code",
        "outputId": "126d16a1-a1ff-4b90-cc62-6fe91cff69bc",
        "colab": {
          "base_uri": "https://localhost:8080/",
          "height": 34
        }
      },
      "cell_type": "code",
      "source": [
        "#Import statements\n",
        "from google.colab import drive\n",
        "drive.mount('/content/drive/')\n",
        "\n",
        "from __future__ import absolute_import, division, print_function\n",
        "from pathlib import Path\n",
        "import re\n",
        "import os\n",
        "from os import getcwd\n",
        "from os.path import exists, isdir, isfile, join\n",
        "import shutil\n",
        "import numpy as np\n",
        "import pandas as pd\n",
        "import glob\n",
        "import cv2\n",
        "\n",
        "%matplotlib inline\n",
        "from matplotlib import pyplot as plt"
      ],
      "execution_count": 1,
      "outputs": [
        {
          "output_type": "stream",
          "text": [
            "Drive already mounted at /content/drive/; to attempt to forcibly remount, call drive.mount(\"/content/drive/\", force_remount=True).\n"
          ],
          "name": "stdout"
        }
      ]
    },
    {
      "metadata": {
        "id": "-LtaYnrB8NXX",
        "colab_type": "code",
        "colab": {}
      },
      "cell_type": "code",
      "source": [
        "class Image_Loader:\n",
        "  # Initializer / Instance Attributes\n",
        "    def __init__(self, root_path, source_dir_name, size, img_read_format, img_type = ('*.jpg', '*.png')):\n",
        "        self.project_path = root_path #root directory path of Mura-v1.1 dataset\n",
        "        self.root = Path(project_path)\n",
        "        self.source_directory = Path.joinpath(self.root, source_dir_name) #path from which image has to be read - Ex: train/test complete path\n",
        "        self.scaled_size = size #Dimension to which image has to be rescaled\n",
        "        self.formatRead = img_read_format #Format in which image has to be read : cv2.IMREAD_GRAYSCALE is by default used in this class by image_read_resize function\n",
        "        self.img_format_type = img_type #image's actual format, currently .jpg, .png are default\n",
        "        self.x_list=[]\n",
        "        self.y_list=[]\n",
        "        self.img_list_array()\n",
        "        np.save(project_path/'Images_array/', x_npy)\n",
        "        np.save(project_path/'labels_array/', y_npy)"
      ],
      "execution_count": 0,
      "outputs": []
    },
    {
      "metadata": {
        "id": "tz8AaeLkNx1K",
        "colab_type": "code",
        "colab": {
          "base_uri": "https://localhost:8080/",
          "height": 51
        },
        "outputId": "508c4b43-bf66-4f91-a42f-c6bfb54806ba"
      },
      "cell_type": "code",
      "source": [
        "Example:\n",
        "project_path = \"/content/drive/My Drive/AIML/Capstone/MURA-v1.1/\"\n",
        "root = Path(project_path)\n",
        "print(root)\n",
        "source_dir_name = \"train\"\n",
        "source_directory = Path.joinpath(root,source_dir_name)\n",
        "print(source_directory)"
      ],
      "execution_count": 12,
      "outputs": [
        {
          "output_type": "stream",
          "text": [
            "/content/drive/My Drive/AIML/Capstone/MURA-v1.1\n",
            "/content/drive/My Drive/AIML/Capstone/MURA-v1.1/train\n"
          ],
          "name": "stdout"
        }
      ]
    },
    {
      "metadata": {
        "id": "cE4JS7Aa73L0",
        "colab_type": "code",
        "colab": {}
      },
      "cell_type": "code",
      "source": [
        "#Folder structure extraction:\n",
        "#####project_path = \"/content/drive/My Drive/AIML/Capstone_Team/MURA-v1.1/\" #Actual project path\n",
        "project_path = \"/content/drive/My Drive/AIML/Capstone/MURA-v1.1/\" #sample path containing only few images\n",
        "\n",
        "root = Path(project_path)\n",
        "train_dir = root/'train/' #create train path\n",
        "test_dir = root/'valid/' #create valid(test) path"
      ],
      "execution_count": 0,
      "outputs": []
    },
    {
      "metadata": {
        "id": "spSSLVDXbGHn",
        "colab_type": "code",
        "colab": {}
      },
      "cell_type": "code",
      "source": [
        "#Labelling Images\n",
        "#study1_positive and study1_negative are the only expected ones that can be processed as per MURA-v1.1 dataset\n",
        "def label_img(img):\n",
        "    word_label = os.path.basename(os.path.dirname(img))\n",
        "    print(word_label)\n",
        "    if word_label == 'study1_positive': return 1\n",
        "    elif word_label == 'study1_negative': return 0"
      ],
      "execution_count": 0,
      "outputs": []
    },
    {
      "metadata": {
        "id": "7px-3z03c9iD",
        "colab_type": "code",
        "colab": {}
      },
      "cell_type": "code",
      "source": [
        "#Image_processing method\n",
        "def image_read_resize(file, scaled_size, formatRead = cv2.IMREAD_GRAYSCALE):\n",
        "  #Reading image file in Grayscale mode, channel information removed\n",
        "  #Datagenerator usage TODO\n",
        "  #formatRead = cv2.IMREAD_GRAYSCALE #set as default\n",
        "  OrigImage = cv2.imread(file,formatRead)\n",
        "  \n",
        "  #resizing image\n",
        "  width = scaled_size\n",
        "  height = scaled_size\n",
        "  dim = (width, height)\n",
        "  resizedImg = cv2.resize(OrigImage, dim)\n",
        "  return resizedImg"
      ],
      "execution_count": 0,
      "outputs": []
    },
    {
      "metadata": {
        "id": "9F5vfbK0fHD7",
        "colab_type": "code",
        "colab": {}
      },
      "cell_type": "code",
      "source": [
        "#Convert Image to list and numpy array\n",
        "\n",
        "def image_to_list_numpy(x_list, y_list, scaled_size, source_directory):\n",
        "  print(source_directory)\n",
        "  for study_category in source_directory.iterdir():\n",
        "    if(os.path.isdir(study_category)):#Only check for directories\n",
        "      print(study_category)\n",
        "      patient_list = sum(1 for _ in study_category.iterdir()) # converting number of patients to list\n",
        "      print(patient_list)\n",
        "      for patient_id in study_category.iterdir():\n",
        "        print(patient_id)\n",
        "        for study_type in patient_id.iterdir():\n",
        "          print(study_type)\n",
        "          #img_format_type = ('*.jpg', '*.png') #TODO: Type of files this expects, need to add exceptions, atleast one general exception, log file,NotADirectoryError\n",
        "          for files in img_format_type:\n",
        "            filelist = list(study_type.glob('**/'+ files))\n",
        "          print(filelist)\n",
        "          print(len(filelist))\n",
        "          for fname in filelist:\n",
        "            class_label = label_img(fname) #Calling label_img function to get the actual label of the image\n",
        "            print(class_label)\n",
        "            for file in glob.glob(str(fname)):\n",
        "              print(file)\n",
        "              resizedImg = image_read_resize(file,scaled_size) #TODO: Read the image and resize it as per dimensions, maybe multiple uses of scaled_size param can be avoided as its part of class\n",
        "              x_list.append(resizedImg)\n",
        "              y_list.append(class_label)\n",
        "              x_npy = np.array(x_list)\n",
        "              y_npy = np.array(y_list)\n",
        "  return x_list, y_list, x_npy, y_npy"
      ],
      "execution_count": 0,
      "outputs": []
    },
    {
      "metadata": {
        "id": "2GxU0g8W-DOt",
        "colab_type": "code",
        "colab": {}
      },
      "cell_type": "code",
      "source": [
        "#Public function to give processed image information: #TODO- May be not required as initialized in constructor itself\n",
        "def img_list_array():\n",
        "  return image_to_list_numpy(x_list, y_list, self.scaled_size, self.source_directory)#if self.doesnt work here, replace with actual local variable"
      ],
      "execution_count": 0,
      "outputs": []
    },
    {
      "metadata": {
        "id": "1CSmCA9qEYOz",
        "colab_type": "code",
        "outputId": "2c739a13-b484-4462-9174-1aaf29eb2012",
        "colab": {
          "base_uri": "https://localhost:8080/",
          "height": 530
        }
      },
      "cell_type": "code",
      "source": [
        "#Sample usage of above functions to create train files/arrays:\n",
        "#Ex: train is used in this case, can be done for test as well\n",
        "x_train, y_train, x_train_npy, y_train_npy = image_to_list_numpy(x_list, y_list, scaled_size=224, source_directory=train_dir)\n",
        "#x_train , y_train - list\n",
        "# x_train_npy, y_train_npy - Array format\n",
        "#size of image - dimension in which image has to be resized"
      ],
      "execution_count": 37,
      "outputs": [
        {
          "output_type": "stream",
          "text": [
            "/content/drive/My Drive/AIML/Capstone/MURA-v1.1/train\n",
            "/content/drive/My Drive/AIML/Capstone/MURA-v1.1/train/XR_HAND\n",
            "2\n",
            "/content/drive/My Drive/AIML/Capstone/MURA-v1.1/train/XR_HAND/patient00008\n",
            "/content/drive/My Drive/AIML/Capstone/MURA-v1.1/train/XR_HAND/patient00008/study1_positive\n",
            "[PosixPath('/content/drive/My Drive/AIML/Capstone/MURA-v1.1/train/XR_HAND/patient00008/study1_positive/image1.png'), PosixPath('/content/drive/My Drive/AIML/Capstone/MURA-v1.1/train/XR_HAND/patient00008/study1_positive/image2.png'), PosixPath('/content/drive/My Drive/AIML/Capstone/MURA-v1.1/train/XR_HAND/patient00008/study1_positive/image3.png')]\n",
            "3\n",
            "study1_positive\n",
            "1\n",
            "/content/drive/My Drive/AIML/Capstone/MURA-v1.1/train/XR_HAND/patient00008/study1_positive/image1.png\n",
            "study1_positive\n",
            "1\n",
            "/content/drive/My Drive/AIML/Capstone/MURA-v1.1/train/XR_HAND/patient00008/study1_positive/image2.png\n",
            "study1_positive\n",
            "1\n",
            "/content/drive/My Drive/AIML/Capstone/MURA-v1.1/train/XR_HAND/patient00008/study1_positive/image3.png\n",
            "/content/drive/My Drive/AIML/Capstone/MURA-v1.1/train/XR_HAND/patient00050\n",
            "/content/drive/My Drive/AIML/Capstone/MURA-v1.1/train/XR_HAND/patient00050/study1_negative\n",
            "[PosixPath('/content/drive/My Drive/AIML/Capstone/MURA-v1.1/train/XR_HAND/patient00050/study1_negative/image3.png'), PosixPath('/content/drive/My Drive/AIML/Capstone/MURA-v1.1/train/XR_HAND/patient00050/study1_negative/image2.png'), PosixPath('/content/drive/My Drive/AIML/Capstone/MURA-v1.1/train/XR_HAND/patient00050/study1_negative/image1.png')]\n",
            "3\n",
            "study1_negative\n",
            "0\n",
            "/content/drive/My Drive/AIML/Capstone/MURA-v1.1/train/XR_HAND/patient00050/study1_negative/image3.png\n",
            "study1_negative\n",
            "0\n",
            "/content/drive/My Drive/AIML/Capstone/MURA-v1.1/train/XR_HAND/patient00050/study1_negative/image2.png\n",
            "study1_negative\n",
            "0\n",
            "/content/drive/My Drive/AIML/Capstone/MURA-v1.1/train/XR_HAND/patient00050/study1_negative/image1.png\n"
          ],
          "name": "stdout"
        }
      ]
    },
    {
      "metadata": {
        "id": "olXNjfWp3eLu",
        "colab_type": "code",
        "colab": {}
      },
      "cell_type": "code",
      "source": [
        "#Storing images as numpy arrays for train directory\n",
        "np.save(train_dir/'Images_train_array/', x_train_npy)\n",
        "np.save(train_dir/'labels_train_array/', y_train_npy)\n",
        "#same can be modified for test directory by removing train_dir and putting that directory variable . i.e test_dir"
      ],
      "execution_count": 0,
      "outputs": []
    },
    {
      "metadata": {
        "id": "dX3FxqH01JhJ",
        "colab_type": "code",
        "outputId": "78385cc4-d144-48ed-e016-3c452052369b",
        "colab": {
          "base_uri": "https://localhost:8080/",
          "height": 34
        }
      },
      "cell_type": "code",
      "source": [
        "x_train_npy.shape, y_train_npy.shape #Number of images stored and its shape"
      ],
      "execution_count": 0,
      "outputs": [
        {
          "output_type": "execute_result",
          "data": {
            "text/plain": [
              "((6, 224, 224), (6,))"
            ]
          },
          "metadata": {
            "tags": []
          },
          "execution_count": 8
        }
      ]
    }
  ]
}